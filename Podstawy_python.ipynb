{
  "nbformat": 4,
  "nbformat_minor": 0,
  "metadata": {
    "colab": {
      "provenance": [],
      "authorship_tag": "ABX9TyPer85gQGjobVa/2yE8IwJT",
      "include_colab_link": true
    },
    "kernelspec": {
      "name": "python3",
      "display_name": "Python 3"
    },
    "language_info": {
      "name": "python"
    }
  },
  "cells": [
    {
      "cell_type": "markdown",
      "metadata": {
        "id": "view-in-github",
        "colab_type": "text"
      },
      "source": [
        "<a href=\"https://colab.research.google.com/github/Joanna0512/Python_Podstawy/blob/main/Podstawy_python.ipynb\" target=\"_parent\"><img src=\"https://colab.research.google.com/assets/colab-badge.svg\" alt=\"Open In Colab\"/></a>"
      ]
    },
    {
      "cell_type": "markdown",
      "source": [
        "Wyrażenia listowe"
      ],
      "metadata": {
        "id": "42ZrdGrsM65d"
      }
    },
    {
      "cell_type": "code",
      "source": [
        "old_list = [1,2,3,4,5,6]\n",
        "new_list = [x**2 for x in old_list if x%2]"
      ],
      "metadata": {
        "id": "BbZF_YSGM9ZV"
      },
      "execution_count": 1,
      "outputs": []
    },
    {
      "cell_type": "code",
      "source": [
        "new_list"
      ],
      "metadata": {
        "colab": {
          "base_uri": "https://localhost:8080/"
        },
        "id": "icpWAVl0NHV6",
        "outputId": "93da1481-8f9d-4cb8-b300-07310e5cb130"
      },
      "execution_count": 2,
      "outputs": [
        {
          "output_type": "execute_result",
          "data": {
            "text/plain": [
              "[1, 9, 25]"
            ]
          },
          "metadata": {},
          "execution_count": 2
        }
      ]
    },
    {
      "cell_type": "code",
      "source": [
        "x=1"
      ],
      "metadata": {
        "id": "rA8XkpXzNvyl"
      },
      "execution_count": 3,
      "outputs": []
    },
    {
      "cell_type": "code",
      "source": [
        "new_list = [x**2 for x in old_list if not x%2]"
      ],
      "metadata": {
        "id": "-WymeZmeNIRS"
      },
      "execution_count": 4,
      "outputs": []
    },
    {
      "cell_type": "code",
      "source": [
        "new_list"
      ],
      "metadata": {
        "colab": {
          "base_uri": "https://localhost:8080/"
        },
        "id": "jtaNwdl6NuEx",
        "outputId": "c4248caa-2b67-49f1-9282-64d71c731011"
      },
      "execution_count": 5,
      "outputs": [
        {
          "output_type": "execute_result",
          "data": {
            "text/plain": [
              "[4, 16, 36]"
            ]
          },
          "metadata": {},
          "execution_count": 5
        }
      ]
    },
    {
      "cell_type": "markdown",
      "source": [
        "STRING"
      ],
      "metadata": {
        "id": "l0-Z1Y3gSMau"
      }
    },
    {
      "cell_type": "code",
      "source": [
        "fruit = \"apple,banana,pear\"\n",
        "fruit.split(',')\n"
      ],
      "metadata": {
        "colab": {
          "base_uri": "https://localhost:8080/"
        },
        "id": "PmoLz4ODPNF8",
        "outputId": "d55c46a2-6d41-4d40-f110-4651e92da1bd"
      },
      "execution_count": 6,
      "outputs": [
        {
          "output_type": "execute_result",
          "data": {
            "text/plain": [
              "['apple', 'banana', 'pear']"
            ]
          },
          "metadata": {},
          "execution_count": 6
        }
      ]
    },
    {
      "cell_type": "code",
      "source": [
        "fruit = ['apple', 'banana', 'pear']\n",
        "''.join(fruit)"
      ],
      "metadata": {
        "colab": {
          "base_uri": "https://localhost:8080/",
          "height": 35
        },
        "id": "jYYd3kczR0D7",
        "outputId": "ba39c041-fc1c-43ca-b03d-1b290fcfc047"
      },
      "execution_count": 7,
      "outputs": [
        {
          "output_type": "execute_result",
          "data": {
            "text/plain": [
              "'applebananapear'"
            ],
            "application/vnd.google.colaboratory.intrinsic+json": {
              "type": "string"
            }
          },
          "metadata": {},
          "execution_count": 7
        }
      ]
    },
    {
      "cell_type": "code",
      "source": [
        "', '.join(fruit)"
      ],
      "metadata": {
        "colab": {
          "base_uri": "https://localhost:8080/",
          "height": 35
        },
        "id": "bAygmAIkR_NZ",
        "outputId": "c82811b4-3681-497b-d503-a0956670a910"
      },
      "execution_count": 8,
      "outputs": [
        {
          "output_type": "execute_result",
          "data": {
            "text/plain": [
              "'apple, banana, pear'"
            ],
            "application/vnd.google.colaboratory.intrinsic+json": {
              "type": "string"
            }
          },
          "metadata": {},
          "execution_count": 8
        }
      ]
    },
    {
      "cell_type": "code",
      "source": [
        "txt = 'Joanna'"
      ],
      "metadata": {
        "id": "AgweAOvxUyl_"
      },
      "execution_count": 9,
      "outputs": []
    },
    {
      "cell_type": "code",
      "source": [
        "txt[::-1] \n"
      ],
      "metadata": {
        "id": "aKPaa0L7U0Mg",
        "outputId": "9e8cd540-0d01-4e2a-f6cb-428dc4c387b0",
        "colab": {
          "base_uri": "https://localhost:8080/",
          "height": 35
        }
      },
      "execution_count": 10,
      "outputs": [
        {
          "output_type": "execute_result",
          "data": {
            "text/plain": [
              "'annaoJ'"
            ],
            "application/vnd.google.colaboratory.intrinsic+json": {
              "type": "string"
            }
          },
          "metadata": {},
          "execution_count": 10
        }
      ]
    },
    {
      "cell_type": "code",
      "source": [
        "txt[-2:]+txt[:-2] "
      ],
      "metadata": {
        "id": "pTQdsB81VMl8",
        "outputId": "2dc9a3d0-7654-4e42-f3c4-f7b27f1965ee",
        "colab": {
          "base_uri": "https://localhost:8080/",
          "height": 35
        }
      },
      "execution_count": 11,
      "outputs": [
        {
          "output_type": "execute_result",
          "data": {
            "text/plain": [
              "'naJoan'"
            ],
            "application/vnd.google.colaboratory.intrinsic+json": {
              "type": "string"
            }
          },
          "metadata": {},
          "execution_count": 11
        }
      ]
    },
    {
      "cell_type": "code",
      "source": [
        "x = [*set(txt)] "
      ],
      "metadata": {
        "id": "koZN3szDWeQa"
      },
      "execution_count": 12,
      "outputs": []
    },
    {
      "cell_type": "code",
      "source": [
        "x"
      ],
      "metadata": {
        "id": "4vIJWCMCWiry",
        "outputId": "676f1b6c-76cf-47b5-e750-f4847af2293a",
        "colab": {
          "base_uri": "https://localhost:8080/"
        }
      },
      "execution_count": 13,
      "outputs": [
        {
          "output_type": "execute_result",
          "data": {
            "text/plain": [
              "['J', 'o', 'n', 'a']"
            ]
          },
          "metadata": {},
          "execution_count": 13
        }
      ]
    },
    {
      "cell_type": "markdown",
      "source": [
        "ZIP\n"
      ],
      "metadata": {
        "id": "BL_iarkEYZBa"
      }
    },
    {
      "cell_type": "code",
      "source": [
        " a = ['a', 'b', 'c']"
      ],
      "metadata": {
        "id": "yEECjRVfWjHf"
      },
      "execution_count": 14,
      "outputs": []
    },
    {
      "cell_type": "code",
      "source": [
        " b = [1,2,3] "
      ],
      "metadata": {
        "id": "kyHaqVhOYc2i"
      },
      "execution_count": 15,
      "outputs": []
    },
    {
      "cell_type": "code",
      "source": [
        "c = list(zip(a,b))"
      ],
      "metadata": {
        "id": "JHYmtclbY10G"
      },
      "execution_count": 16,
      "outputs": []
    },
    {
      "cell_type": "code",
      "source": [
        "c"
      ],
      "metadata": {
        "id": "YICRIpt4ZG4a",
        "outputId": "82c9e928-df62-49ad-fc3a-0ba6b9d9f9e9",
        "colab": {
          "base_uri": "https://localhost:8080/"
        }
      },
      "execution_count": 17,
      "outputs": [
        {
          "output_type": "execute_result",
          "data": {
            "text/plain": [
              "[('a', 1), ('b', 2), ('c', 3)]"
            ]
          },
          "metadata": {},
          "execution_count": 17
        }
      ]
    },
    {
      "cell_type": "markdown",
      "source": [
        "SET"
      ],
      "metadata": {
        "id": "8ju9vx92aHfd"
      }
    },
    {
      "cell_type": "code",
      "source": [
        "a = set('abrakadabra') #set tworzymy za pomoca nawiasów okrągłych"
      ],
      "metadata": {
        "id": "jUE-wquYn7In"
      },
      "execution_count": 18,
      "outputs": []
    },
    {
      "cell_type": "code",
      "source": [
        "a"
      ],
      "metadata": {
        "id": "oG3c2AhBn-ll",
        "outputId": "3658a864-f5f3-4fdd-ca0c-87aaf6bd5105",
        "colab": {
          "base_uri": "https://localhost:8080/"
        }
      },
      "execution_count": 19,
      "outputs": [
        {
          "output_type": "execute_result",
          "data": {
            "text/plain": [
              "{'a', 'b', 'd', 'k', 'r'}"
            ]
          },
          "metadata": {},
          "execution_count": 19
        }
      ]
    },
    {
      "cell_type": "code",
      "source": [
        "aa = [1,2,3,4]"
      ],
      "metadata": {
        "id": "oHuu8CpNaF_X"
      },
      "execution_count": 20,
      "outputs": []
    },
    {
      "cell_type": "code",
      "source": [
        "bb= [1,2,3]"
      ],
      "metadata": {
        "id": "yOGVxSUcaNjZ"
      },
      "execution_count": 21,
      "outputs": []
    },
    {
      "cell_type": "code",
      "source": [
        "cc = aa+bb"
      ],
      "metadata": {
        "id": "my4ctJ2IaPER"
      },
      "execution_count": 22,
      "outputs": []
    },
    {
      "cell_type": "code",
      "source": [
        "list(set(cc))"
      ],
      "metadata": {
        "id": "pR-5APhdaQk3",
        "outputId": "60ed2fb5-cab3-4a00-f7eb-ef851362c71f",
        "colab": {
          "base_uri": "https://localhost:8080/"
        }
      },
      "execution_count": 23,
      "outputs": [
        {
          "output_type": "execute_result",
          "data": {
            "text/plain": [
              "[1, 2, 3, 4]"
            ]
          },
          "metadata": {},
          "execution_count": 23
        }
      ]
    },
    {
      "cell_type": "markdown",
      "source": [
        "WYRAŻENIA SET"
      ],
      "metadata": {
        "id": "KiNILBGCcPAu"
      }
    },
    {
      "cell_type": "code",
      "source": [
        "name_list = ['ala', 'kasia', 'zenek', 'norbet']"
      ],
      "metadata": {
        "id": "pTWayxxsaTYh"
      },
      "execution_count": 24,
      "outputs": []
    },
    {
      "cell_type": "code",
      "source": [
        "name_lenght = {len(word) for word in name_list}"
      ],
      "metadata": {
        "id": "764AMqg6cT09"
      },
      "execution_count": 25,
      "outputs": []
    },
    {
      "cell_type": "code",
      "source": [
        "name_lenght"
      ],
      "metadata": {
        "id": "xMsnaGP7ccu9",
        "outputId": "02905fe5-08a6-4707-a95f-1a57618b159d",
        "colab": {
          "base_uri": "https://localhost:8080/"
        }
      },
      "execution_count": 26,
      "outputs": [
        {
          "output_type": "execute_result",
          "data": {
            "text/plain": [
              "{3, 5, 6}"
            ]
          },
          "metadata": {},
          "execution_count": 26
        }
      ]
    },
    {
      "cell_type": "markdown",
      "source": [
        "WYRAŻENIA DICT"
      ],
      "metadata": {
        "id": "s0fHacVoVyN-"
      }
    },
    {
      "cell_type": "code",
      "source": [
        "old_dict = {'police':997, 'emergency': 999, 'fire': 998}"
      ],
      "metadata": {
        "id": "q7H3sr9KcdTp"
      },
      "execution_count": 27,
      "outputs": []
    },
    {
      "cell_type": "code",
      "source": [
        "new_dict = {v: k for k, v in old_dict.items()}"
      ],
      "metadata": {
        "id": "pqrT_m3AV9IM"
      },
      "execution_count": 28,
      "outputs": []
    },
    {
      "cell_type": "code",
      "source": [
        "new_dict"
      ],
      "metadata": {
        "id": "_PMMBgvtWBpU",
        "outputId": "78ad6f22-7cfc-4ad0-aabf-f1f29ce489dc",
        "colab": {
          "base_uri": "https://localhost:8080/"
        }
      },
      "execution_count": 29,
      "outputs": [
        {
          "output_type": "execute_result",
          "data": {
            "text/plain": [
              "{997: 'police', 999: 'emergency', 998: 'fire'}"
            ]
          },
          "metadata": {},
          "execution_count": 29
        }
      ]
    },
    {
      "cell_type": "code",
      "source": [
        "for k in old_dict:#zawsze drukuje sie klucz\n",
        "  print(k)"
      ],
      "metadata": {
        "id": "TD4c02QXWOLM",
        "outputId": "da8d9b1a-7885-4955-941b-05cca2b51080",
        "colab": {
          "base_uri": "https://localhost:8080/"
        }
      },
      "execution_count": 30,
      "outputs": [
        {
          "output_type": "stream",
          "name": "stdout",
          "text": [
            "police\n",
            "emergency\n",
            "fire\n"
          ]
        }
      ]
    },
    {
      "cell_type": "code",
      "source": [
        "old_dict.items()"
      ],
      "metadata": {
        "id": "NkrUkNRHWhK9",
        "outputId": "7fd5ee87-4452-4a74-dd99-62b3dc74b38c",
        "colab": {
          "base_uri": "https://localhost:8080/"
        }
      },
      "execution_count": 31,
      "outputs": [
        {
          "output_type": "execute_result",
          "data": {
            "text/plain": [
              "dict_items([('police', 997), ('emergency', 999), ('fire', 998)])"
            ]
          },
          "metadata": {},
          "execution_count": 31
        }
      ]
    },
    {
      "cell_type": "markdown",
      "source": [
        "OPERACJE NA PLIKACH"
      ],
      "metadata": {
        "id": "8GyLWAxgkevr"
      }
    },
    {
      "cell_type": "code",
      "source": [
        "f = open('file.txt', mode='w')"
      ],
      "metadata": {
        "id": "wCf3pZALkdgx"
      },
      "execution_count": 55,
      "outputs": []
    },
    {
      "cell_type": "code",
      "source": [
        "f.write('ala ma psa')"
      ],
      "metadata": {
        "id": "Pj1ZMoxZk5vb",
        "outputId": "e5d1ca2a-eefe-40c5-ba20-da9f831066bb",
        "colab": {
          "base_uri": "https://localhost:8080/"
        }
      },
      "execution_count": 56,
      "outputs": [
        {
          "output_type": "execute_result",
          "data": {
            "text/plain": [
              "10"
            ]
          },
          "metadata": {},
          "execution_count": 56
        }
      ]
    },
    {
      "cell_type": "code",
      "source": [
        "f"
      ],
      "metadata": {
        "id": "3v_KtR82yINe",
        "outputId": "770eaf56-f85e-495f-b599-11b028d0de5f",
        "colab": {
          "base_uri": "https://localhost:8080/"
        }
      },
      "execution_count": 57,
      "outputs": [
        {
          "output_type": "execute_result",
          "data": {
            "text/plain": [
              "<_io.TextIOWrapper name='file.txt' mode='w' encoding='UTF-8'>"
            ]
          },
          "metadata": {},
          "execution_count": 57
        }
      ]
    },
    {
      "cell_type": "code",
      "source": [
        "f.close()"
      ],
      "metadata": {
        "id": "PmzrtmJnk-In"
      },
      "execution_count": 48,
      "outputs": []
    },
    {
      "cell_type": "code",
      "source": [
        "text = open('new.txt', mode ='w')"
      ],
      "metadata": {
        "id": "kXGPG6silC06"
      },
      "execution_count": 52,
      "outputs": []
    },
    {
      "cell_type": "code",
      "source": [
        "text.write('what the fuck')"
      ],
      "metadata": {
        "id": "EDLk0KbVqK2V",
        "outputId": "586eb8e7-16db-459d-eb15-93e7822fec55",
        "colab": {
          "base_uri": "https://localhost:8080/"
        }
      },
      "execution_count": 53,
      "outputs": [
        {
          "output_type": "execute_result",
          "data": {
            "text/plain": [
              "13"
            ]
          },
          "metadata": {},
          "execution_count": 53
        }
      ]
    },
    {
      "cell_type": "code",
      "source": [
        "text.close()"
      ],
      "metadata": {
        "id": "ZnHeYZahq5t2"
      },
      "execution_count": 49,
      "outputs": []
    },
    {
      "cell_type": "code",
      "source": [
        "with open('file.txt', mode='w') as file_txt:\n",
        "  for t in range(100):\n",
        "    file_txt.write(f'{t} C\\n')"
      ],
      "metadata": {
        "id": "SisGMvNAopjY"
      },
      "execution_count": 80,
      "outputs": []
    },
    {
      "cell_type": "code",
      "source": [
        "p = open('100_pan_tadeusz.txt',mode='r')\n",
        "\n",
        "while(True):\n",
        "  line =p.readline()\n",
        "  if not line:\n",
        "    break\n",
        "print(line)"
      ],
      "metadata": {
        "id": "Nurjz7bIxy2b",
        "outputId": "81271ae1-085f-480b-85be-be6a317eb709",
        "colab": {
          "base_uri": "https://localhost:8080/"
        }
      },
      "execution_count": 83,
      "outputs": [
        {
          "output_type": "stream",
          "name": "stdout",
          "text": [
            "\n"
          ]
        }
      ]
    },
    {
      "cell_type": "code",
      "source": [
        "with open('p.txt', 'a+') as file:\n",
        "    print(file.readlines())"
      ],
      "metadata": {
        "id": "oeW7NA8c1I80",
        "outputId": "3dafbdac-e426-404c-ba78-4408df0bfb15",
        "colab": {
          "base_uri": "https://localhost:8080/"
        }
      },
      "execution_count": 75,
      "outputs": [
        {
          "output_type": "stream",
          "name": "stdout",
          "text": [
            "[]\n"
          ]
        }
      ]
    }
  ]
}
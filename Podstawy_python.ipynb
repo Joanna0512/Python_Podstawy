{
  "nbformat": 4,
  "nbformat_minor": 0,
  "metadata": {
    "colab": {
      "provenance": [],
      "toc_visible": true,
      "authorship_tag": "ABX9TyN1mGE7+KG0Dyu/7queZyo1",
      "include_colab_link": true
    },
    "kernelspec": {
      "name": "python3",
      "display_name": "Python 3"
    },
    "language_info": {
      "name": "python"
    }
  },
  "cells": [
    {
      "cell_type": "markdown",
      "metadata": {
        "id": "view-in-github",
        "colab_type": "text"
      },
      "source": [
        "<a href=\"https://colab.research.google.com/github/Joanna0512/Python_Podstawy/blob/main/Podstawy_python.ipynb\" target=\"_parent\"><img src=\"https://colab.research.google.com/assets/colab-badge.svg\" alt=\"Open In Colab\"/></a>"
      ]
    },
    {
      "cell_type": "markdown",
      "source": [
        "##WYRAŻENIA LISTOWE"
      ],
      "metadata": {
        "id": "42ZrdGrsM65d"
      }
    },
    {
      "cell_type": "code",
      "source": [
        "old_list = [1,2,3,4,5,6]\n",
        "new_list = [x**2 for x in old_list if x%2] #nieparzyste"
      ],
      "metadata": {
        "id": "BbZF_YSGM9ZV"
      },
      "execution_count": null,
      "outputs": []
    },
    {
      "cell_type": "code",
      "source": [
        "new_list"
      ],
      "metadata": {
        "colab": {
          "base_uri": "https://localhost:8080/"
        },
        "id": "icpWAVl0NHV6",
        "outputId": "93da1481-8f9d-4cb8-b300-07310e5cb130"
      },
      "execution_count": null,
      "outputs": [
        {
          "output_type": "execute_result",
          "data": {
            "text/plain": [
              "[1, 9, 25]"
            ]
          },
          "metadata": {},
          "execution_count": 2
        }
      ]
    },
    {
      "cell_type": "code",
      "source": [
        "x=1"
      ],
      "metadata": {
        "id": "rA8XkpXzNvyl"
      },
      "execution_count": null,
      "outputs": []
    },
    {
      "cell_type": "code",
      "source": [
        "new_list = [x**2 for x in old_list if not x%2] #parzyste"
      ],
      "metadata": {
        "id": "-WymeZmeNIRS"
      },
      "execution_count": null,
      "outputs": []
    },
    {
      "cell_type": "code",
      "source": [
        "new_list"
      ],
      "metadata": {
        "colab": {
          "base_uri": "https://localhost:8080/"
        },
        "id": "jtaNwdl6NuEx",
        "outputId": "c4248caa-2b67-49f1-9282-64d71c731011"
      },
      "execution_count": null,
      "outputs": [
        {
          "output_type": "execute_result",
          "data": {
            "text/plain": [
              "[4, 16, 36]"
            ]
          },
          "metadata": {},
          "execution_count": 5
        }
      ]
    },
    {
      "cell_type": "markdown",
      "source": [
        "#STRING"
      ],
      "metadata": {
        "id": "l0-Z1Y3gSMau"
      }
    },
    {
      "cell_type": "code",
      "source": [
        "fruit = \"apple,banana,pear\"\n",
        "fruit.split(',') #tworzenie listy ze stringa\n"
      ],
      "metadata": {
        "colab": {
          "base_uri": "https://localhost:8080/"
        },
        "id": "PmoLz4ODPNF8",
        "outputId": "d55c46a2-6d41-4d40-f110-4651e92da1bd"
      },
      "execution_count": null,
      "outputs": [
        {
          "output_type": "execute_result",
          "data": {
            "text/plain": [
              "['apple', 'banana', 'pear']"
            ]
          },
          "metadata": {},
          "execution_count": 6
        }
      ]
    },
    {
      "cell_type": "code",
      "source": [
        "fruit = ['apple', 'banana', 'pear']\n",
        "''.join(fruit)"
      ],
      "metadata": {
        "colab": {
          "base_uri": "https://localhost:8080/",
          "height": 35
        },
        "id": "jYYd3kczR0D7",
        "outputId": "ba39c041-fc1c-43ca-b03d-1b290fcfc047"
      },
      "execution_count": null,
      "outputs": [
        {
          "output_type": "execute_result",
          "data": {
            "text/plain": [
              "'applebananapear'"
            ],
            "application/vnd.google.colaboratory.intrinsic+json": {
              "type": "string"
            }
          },
          "metadata": {},
          "execution_count": 7
        }
      ]
    },
    {
      "cell_type": "code",
      "source": [
        "', '.join(fruit)"
      ],
      "metadata": {
        "colab": {
          "base_uri": "https://localhost:8080/",
          "height": 35
        },
        "id": "bAygmAIkR_NZ",
        "outputId": "c82811b4-3681-497b-d503-a0956670a910"
      },
      "execution_count": null,
      "outputs": [
        {
          "output_type": "execute_result",
          "data": {
            "text/plain": [
              "'apple, banana, pear'"
            ],
            "application/vnd.google.colaboratory.intrinsic+json": {
              "type": "string"
            }
          },
          "metadata": {},
          "execution_count": 8
        }
      ]
    },
    {
      "cell_type": "code",
      "source": [
        "txt = 'Joanna'"
      ],
      "metadata": {
        "id": "AgweAOvxUyl_"
      },
      "execution_count": null,
      "outputs": []
    },
    {
      "cell_type": "code",
      "source": [
        "txt[::-1] \n"
      ],
      "metadata": {
        "id": "aKPaa0L7U0Mg",
        "outputId": "9e8cd540-0d01-4e2a-f6cb-428dc4c387b0",
        "colab": {
          "base_uri": "https://localhost:8080/",
          "height": 35
        }
      },
      "execution_count": null,
      "outputs": [
        {
          "output_type": "execute_result",
          "data": {
            "text/plain": [
              "'annaoJ'"
            ],
            "application/vnd.google.colaboratory.intrinsic+json": {
              "type": "string"
            }
          },
          "metadata": {},
          "execution_count": 10
        }
      ]
    },
    {
      "cell_type": "code",
      "source": [
        "txt[-2:]+txt[:-2] "
      ],
      "metadata": {
        "id": "pTQdsB81VMl8",
        "outputId": "2dc9a3d0-7654-4e42-f3c4-f7b27f1965ee",
        "colab": {
          "base_uri": "https://localhost:8080/",
          "height": 35
        }
      },
      "execution_count": null,
      "outputs": [
        {
          "output_type": "execute_result",
          "data": {
            "text/plain": [
              "'naJoan'"
            ],
            "application/vnd.google.colaboratory.intrinsic+json": {
              "type": "string"
            }
          },
          "metadata": {},
          "execution_count": 11
        }
      ]
    },
    {
      "cell_type": "code",
      "source": [
        "x = [*set(txt)] #set pokazuje unikalne wartości"
      ],
      "metadata": {
        "id": "koZN3szDWeQa"
      },
      "execution_count": null,
      "outputs": []
    },
    {
      "cell_type": "code",
      "source": [
        "x"
      ],
      "metadata": {
        "id": "4vIJWCMCWiry",
        "outputId": "676f1b6c-76cf-47b5-e750-f4847af2293a",
        "colab": {
          "base_uri": "https://localhost:8080/"
        }
      },
      "execution_count": null,
      "outputs": [
        {
          "output_type": "execute_result",
          "data": {
            "text/plain": [
              "['J', 'o', 'n', 'a']"
            ]
          },
          "metadata": {},
          "execution_count": 13
        }
      ]
    },
    {
      "cell_type": "markdown",
      "source": [
        "#ZIP\n"
      ],
      "metadata": {
        "id": "BL_iarkEYZBa"
      }
    },
    {
      "cell_type": "code",
      "source": [
        " a = ['a', 'b', 'c']"
      ],
      "metadata": {
        "id": "yEECjRVfWjHf"
      },
      "execution_count": 32,
      "outputs": []
    },
    {
      "cell_type": "code",
      "source": [
        " b = [1,2,3,4] "
      ],
      "metadata": {
        "id": "kyHaqVhOYc2i"
      },
      "execution_count": 33,
      "outputs": []
    },
    {
      "cell_type": "code",
      "source": [
        "c = list(zip(a,b))"
      ],
      "metadata": {
        "id": "JHYmtclbY10G"
      },
      "execution_count": 34,
      "outputs": []
    },
    {
      "cell_type": "code",
      "source": [
        "c"
      ],
      "metadata": {
        "id": "YICRIpt4ZG4a",
        "outputId": "3c1b6594-aaa7-4295-ba9c-e1f52643e224",
        "colab": {
          "base_uri": "https://localhost:8080/"
        }
      },
      "execution_count": 35,
      "outputs": [
        {
          "output_type": "execute_result",
          "data": {
            "text/plain": [
              "[('a', 1), ('b', 2), ('c', 3)]"
            ]
          },
          "metadata": {},
          "execution_count": 35
        }
      ]
    },
    {
      "cell_type": "markdown",
      "source": [
        "#SET"
      ],
      "metadata": {
        "id": "8ju9vx92aHfd"
      }
    },
    {
      "cell_type": "code",
      "source": [
        "a = set('abrakadabra') #set tworzymy za pomoca nawiasów okrągłych"
      ],
      "metadata": {
        "id": "jUE-wquYn7In"
      },
      "execution_count": null,
      "outputs": []
    },
    {
      "cell_type": "code",
      "source": [
        "a"
      ],
      "metadata": {
        "id": "oG3c2AhBn-ll",
        "outputId": "3658a864-f5f3-4fdd-ca0c-87aaf6bd5105",
        "colab": {
          "base_uri": "https://localhost:8080/"
        }
      },
      "execution_count": null,
      "outputs": [
        {
          "output_type": "execute_result",
          "data": {
            "text/plain": [
              "{'a', 'b', 'd', 'k', 'r'}"
            ]
          },
          "metadata": {},
          "execution_count": 19
        }
      ]
    },
    {
      "cell_type": "code",
      "source": [
        "aa = [1,2,3,4]"
      ],
      "metadata": {
        "id": "oHuu8CpNaF_X"
      },
      "execution_count": null,
      "outputs": []
    },
    {
      "cell_type": "code",
      "source": [
        "bb= [1,2,3]"
      ],
      "metadata": {
        "id": "yOGVxSUcaNjZ"
      },
      "execution_count": null,
      "outputs": []
    },
    {
      "cell_type": "code",
      "source": [
        "cc = aa+bb"
      ],
      "metadata": {
        "id": "my4ctJ2IaPER"
      },
      "execution_count": null,
      "outputs": []
    },
    {
      "cell_type": "code",
      "source": [
        "list(set(cc))"
      ],
      "metadata": {
        "id": "pR-5APhdaQk3",
        "outputId": "60ed2fb5-cab3-4a00-f7eb-ef851362c71f",
        "colab": {
          "base_uri": "https://localhost:8080/"
        }
      },
      "execution_count": null,
      "outputs": [
        {
          "output_type": "execute_result",
          "data": {
            "text/plain": [
              "[1, 2, 3, 4]"
            ]
          },
          "metadata": {},
          "execution_count": 23
        }
      ]
    },
    {
      "cell_type": "markdown",
      "source": [
        "#WYRAŻENIA SET"
      ],
      "metadata": {
        "id": "KiNILBGCcPAu"
      }
    },
    {
      "cell_type": "code",
      "source": [
        "name_list = ['ala', 'kasia', 'zenek', 'norbet']"
      ],
      "metadata": {
        "id": "pTWayxxsaTYh"
      },
      "execution_count": null,
      "outputs": []
    },
    {
      "cell_type": "code",
      "source": [
        "name_lenght = {len(word) for word in name_list} #podaj długość kazdego słowa z listy"
      ],
      "metadata": {
        "id": "764AMqg6cT09"
      },
      "execution_count": null,
      "outputs": []
    },
    {
      "cell_type": "code",
      "source": [
        "name_lenght"
      ],
      "metadata": {
        "id": "xMsnaGP7ccu9",
        "outputId": "02905fe5-08a6-4707-a95f-1a57618b159d",
        "colab": {
          "base_uri": "https://localhost:8080/"
        }
      },
      "execution_count": null,
      "outputs": [
        {
          "output_type": "execute_result",
          "data": {
            "text/plain": [
              "{3, 5, 6}"
            ]
          },
          "metadata": {},
          "execution_count": 26
        }
      ]
    },
    {
      "cell_type": "markdown",
      "source": [
        "WYRAŻENIA DICT"
      ],
      "metadata": {
        "id": "s0fHacVoVyN-"
      }
    },
    {
      "cell_type": "code",
      "source": [
        "old_dict = {'police':997, 'emergency': 999, 'fire': 998}"
      ],
      "metadata": {
        "id": "q7H3sr9KcdTp"
      },
      "execution_count": null,
      "outputs": []
    },
    {
      "cell_type": "code",
      "source": [
        "new_dict = {v: k for k, v in old_dict.items()}"
      ],
      "metadata": {
        "id": "pqrT_m3AV9IM"
      },
      "execution_count": null,
      "outputs": []
    },
    {
      "cell_type": "code",
      "source": [
        "new_dict"
      ],
      "metadata": {
        "id": "_PMMBgvtWBpU",
        "outputId": "78ad6f22-7cfc-4ad0-aabf-f1f29ce489dc",
        "colab": {
          "base_uri": "https://localhost:8080/"
        }
      },
      "execution_count": null,
      "outputs": [
        {
          "output_type": "execute_result",
          "data": {
            "text/plain": [
              "{997: 'police', 999: 'emergency', 998: 'fire'}"
            ]
          },
          "metadata": {},
          "execution_count": 29
        }
      ]
    },
    {
      "cell_type": "code",
      "source": [
        "for k in old_dict:#zawsze drukuje sie klucz\n",
        "  print(k)"
      ],
      "metadata": {
        "id": "TD4c02QXWOLM",
        "outputId": "da8d9b1a-7885-4955-941b-05cca2b51080",
        "colab": {
          "base_uri": "https://localhost:8080/"
        }
      },
      "execution_count": null,
      "outputs": [
        {
          "output_type": "stream",
          "name": "stdout",
          "text": [
            "police\n",
            "emergency\n",
            "fire\n"
          ]
        }
      ]
    },
    {
      "cell_type": "code",
      "source": [
        "old_dict.items()"
      ],
      "metadata": {
        "id": "NkrUkNRHWhK9",
        "outputId": "7fd5ee87-4452-4a74-dd99-62b3dc74b38c",
        "colab": {
          "base_uri": "https://localhost:8080/"
        }
      },
      "execution_count": null,
      "outputs": [
        {
          "output_type": "execute_result",
          "data": {
            "text/plain": [
              "dict_items([('police', 997), ('emergency', 999), ('fire', 998)])"
            ]
          },
          "metadata": {},
          "execution_count": 31
        }
      ]
    },
    {
      "cell_type": "markdown",
      "source": [
        "OPERACJE NA PLIKACH"
      ],
      "metadata": {
        "id": "8GyLWAxgkevr"
      }
    },
    {
      "cell_type": "code",
      "source": [
        "f = open('file.txt', mode='w')"
      ],
      "metadata": {
        "id": "wCf3pZALkdgx"
      },
      "execution_count": null,
      "outputs": []
    },
    {
      "cell_type": "code",
      "source": [
        "f.write('ala ma psa')"
      ],
      "metadata": {
        "id": "Pj1ZMoxZk5vb",
        "outputId": "e5d1ca2a-eefe-40c5-ba20-da9f831066bb",
        "colab": {
          "base_uri": "https://localhost:8080/"
        }
      },
      "execution_count": null,
      "outputs": [
        {
          "output_type": "execute_result",
          "data": {
            "text/plain": [
              "10"
            ]
          },
          "metadata": {},
          "execution_count": 56
        }
      ]
    },
    {
      "cell_type": "code",
      "source": [
        "f.close()"
      ],
      "metadata": {
        "id": "PmzrtmJnk-In"
      },
      "execution_count": null,
      "outputs": []
    },
    {
      "cell_type": "code",
      "source": [
        "string2 ='hello Joann'"
      ],
      "metadata": {
        "id": "3W7OGFe_Q7TC"
      },
      "execution_count": 1,
      "outputs": []
    },
    {
      "cell_type": "code",
      "source": [
        "f2 = open('file2.txt', mode='w')\n",
        "f2.write(string2)\n",
        "f2.close()"
      ],
      "metadata": {
        "id": "tVmhgcBQQteF"
      },
      "execution_count": 6,
      "outputs": []
    },
    {
      "cell_type": "code",
      "source": [
        "string3 ='Hello You too'\n",
        "f2 = open('file2.txt', mode='a') #a - dopisywanie, jeśli plik nie istnieje to zostanie utworzony, jeśli istnieje to nowa treść zostanie dopisana\n",
        "f2.writelines(string3)\n",
        "f2.close()"
      ],
      "metadata": {
        "id": "yCkjyJ6ZRIKA"
      },
      "execution_count": 7,
      "outputs": []
    },
    {
      "cell_type": "code",
      "source": [
        "string4 ='\\nNew Line'\n",
        "f2 = open('file2.txt', mode='a')\n",
        "f2.writelines(string4)\n",
        "f2.close()"
      ],
      "metadata": {
        "id": "pYVxuPnjRfJ_"
      },
      "execution_count": 8,
      "outputs": []
    },
    {
      "cell_type": "code",
      "source": [
        "f2 = open('file2.txt', mode='a')\n",
        "f2.write(\"\\nNice to met you\")\n",
        "f2.close()"
      ],
      "metadata": {
        "id": "C0hVUR1mR1ME"
      },
      "execution_count": 10,
      "outputs": []
    },
    {
      "cell_type": "code",
      "source": [
        "f2 = open('file2.txt', mode='a')\n",
        "f2.writelines(\"\\nYou too\")\n",
        "f2.close()"
      ],
      "metadata": {
        "id": "3_d-A3baSrx0"
      },
      "execution_count": 13,
      "outputs": []
    },
    {
      "cell_type": "code",
      "source": [
        "with open('file2.txt', mode='w') as file_2:\n",
        "  for t in range(100):\n",
        "    file_2.write(f'{t} C\\n') #czyli wydrukuj t(liczby od 0 do 100 i C, \\n = nowa linijka)"
      ],
      "metadata": {
        "id": "ZduXyBaNTr7P"
      },
      "execution_count": 14,
      "outputs": []
    },
    {
      "cell_type": "code",
      "source": [
        "file_2 = open('file2.txt', mode='r')"
      ],
      "metadata": {
        "id": "fvAsFYuVVPBs"
      },
      "execution_count": 16,
      "outputs": []
    },
    {
      "cell_type": "code",
      "source": [
        "tekst_z_pliku = file_2.read()"
      ],
      "metadata": {
        "id": "p2bB6x75VJSS"
      },
      "execution_count": 17,
      "outputs": []
    },
    {
      "cell_type": "code",
      "source": [
        "tekst_z_pliku"
      ],
      "metadata": {
        "id": "-AMFWjYkViSr",
        "outputId": "692dfa2b-deab-4065-ebc1-a2a64711c6ad",
        "colab": {
          "base_uri": "https://localhost:8080/",
          "height": 105
        }
      },
      "execution_count": 18,
      "outputs": [
        {
          "output_type": "execute_result",
          "data": {
            "text/plain": [
              "'0 C\\n1 C\\n2 C\\n3 C\\n4 C\\n5 C\\n6 C\\n7 C\\n8 C\\n9 C\\n10 C\\n11 C\\n12 C\\n13 C\\n14 C\\n15 C\\n16 C\\n17 C\\n18 C\\n19 C\\n20 C\\n21 C\\n22 C\\n23 C\\n24 C\\n25 C\\n26 C\\n27 C\\n28 C\\n29 C\\n30 C\\n31 C\\n32 C\\n33 C\\n34 C\\n35 C\\n36 C\\n37 C\\n38 C\\n39 C\\n40 C\\n41 C\\n42 C\\n43 C\\n44 C\\n45 C\\n46 C\\n47 C\\n48 C\\n49 C\\n50 C\\n51 C\\n52 C\\n53 C\\n54 C\\n55 C\\n56 C\\n57 C\\n58 C\\n59 C\\n60 C\\n61 C\\n62 C\\n63 C\\n64 C\\n65 C\\n66 C\\n67 C\\n68 C\\n69 C\\n70 C\\n71 C\\n72 C\\n73 C\\n74 C\\n75 C\\n76 C\\n77 C\\n78 C\\n79 C\\n80 C\\n81 C\\n82 C\\n83 C\\n84 C\\n85 C\\n86 C\\n87 C\\n88 C\\n89 C\\n90 C\\n91 C\\n92 C\\n93 C\\n94 C\\n95 C\\n96 C\\n97 C\\n98 C\\n99 C\\n'"
            ],
            "application/vnd.google.colaboratory.intrinsic+json": {
              "type": "string"
            }
          },
          "metadata": {},
          "execution_count": 18
        }
      ]
    },
    {
      "cell_type": "code",
      "source": [
        "tekst_z_pliku.split('\\n')"
      ],
      "metadata": {
        "id": "aKLIqHtQV_Qs"
      },
      "execution_count": null,
      "outputs": []
    },
    {
      "cell_type": "code",
      "source": [
        "file_2 = open('file2.txt', mode='r')"
      ],
      "metadata": {
        "id": "LkkQ6mhGXjzF"
      },
      "execution_count": 26,
      "outputs": []
    },
    {
      "cell_type": "code",
      "source": [
        "for line in file_2:\n",
        "  print(line)"
      ],
      "metadata": {
        "id": "roJwbQ20WYpk"
      },
      "execution_count": null,
      "outputs": []
    },
    {
      "cell_type": "code",
      "source": [
        "file_2.close()"
      ],
      "metadata": {
        "id": "xYUWqKbIX5gj"
      },
      "execution_count": 24,
      "outputs": []
    },
    {
      "cell_type": "code",
      "source": [
        "p = open('100_pan_tadeusz.txt',mode='r')\n",
        "\n",
        "while(True):\n",
        "  line =p.readline()\n",
        "  if not line:\n",
        "    break\n",
        "  print(line)"
      ],
      "metadata": {
        "id": "Nurjz7bIxy2b",
        "outputId": "63c8797d-6143-4a71-8315-d464dbbd3d9b",
        "colab": {
          "base_uri": "https://localhost:8080/"
        }
      },
      "execution_count": 30,
      "outputs": [
        {
          "output_type": "stream",
          "name": "stdout",
          "text": [
            "Adam Mickiewicz\n",
            "\n",
            "\n",
            "\n",
            "Pan Tadeusz czyli ostatni zajazd na Litwie\n",
            "\n",
            "\n",
            "\n",
            "\n",
            "\n",
            "\n",
            "\n",
            "\n",
            "\n",
            "\n",
            "\n",
            "\n",
            "\n",
            "Księga pierwsza\n",
            "\n",
            "\n",
            "\n",
            "\n",
            "\n",
            "\n",
            "\n",
            "Gospodarstwo\n",
            "\n",
            "\n",
            "\n",
            "Powrót panicza — Spotkanie się pierwsze w pokoiku, drugie u stołu — Ważna Sędziego nauka o grzeczności — Podkomorzego uwagi polityczne nad modami — Początek sporu o Kusego i Sokoła — Żale Wojskiego — Ostatni Woźny Trybunału — Rzut oka na ówczesny stan polityczny Litwy i Europy\n",
            "\n",
            "\n",
            "\n",
            "    Litwo! Ojczyzno moja! ty jesteś jak zdrowie:\n",
            "\n",
            "Ile cię trzeba cenić, ten tylko się dowie,\n",
            "\n",
            "Kto cię stracił. Dziś piękność twą w całej ozdobie\n",
            "\n",
            "Widzę i opisuję, bo tęsknię po tobie.\n",
            "\n",
            "\n",
            "\n",
            "    Panno święta, co Jasnej bronisz Częstochowy\n",
            "\n",
            "I w Ostrej świecisz Bramie! Ty, co gród zamkowy\n",
            "\n",
            "Nowogródzki ochraniasz z jego wiernym ludem!\n",
            "\n",
            "Jak mnie dziecko do zdrowia powróciłaś cudem\n",
            "\n",
            "(Gdy od płaczącej matki, pod Twoją opiekę\n",
            "\n",
            "Ofiarowany, martwą podniosłem powiekę;\n",
            "\n",
            "I zaraz mogłem pieszo, do Twych świątyń progu\n",
            "\n",
            "Iść za wrócone życie podziękować Bogu),\n",
            "\n",
            "Tak nas powrócisz cudem na Ojczyzny łono.\n",
            "\n",
            "Tymczasem przenoś moją duszę utęsknioną\n",
            "\n",
            "Do tych pagórków leśnych, do tych łąk zielonych,\n",
            "\n",
            "Szeroko nad błękitnym Niemnem rozciągnionych;\n",
            "\n",
            "Do tych pól malowanych zbożem rozmaitem,\n",
            "\n",
            "Wyzłacanych pszenicą, posrebrzanych żytem;\n",
            "\n",
            "Gdzie bursztynowy świerzop, gryka jak śnieg biała,\n",
            "\n",
            "Gdzie panieńskim rumieńcem dzięcielina pała,\n",
            "\n",
            "A wszystko przepasane jakby wstęgą, miedzą\n",
            "\n",
            "Zieloną, na niej z rzadka ciche grusze siedzą.\n",
            "\n",
            "\n",
            "\n",
            "    Śród takich pól przed laty, nad brzegiem ruczaju,\n",
            "\n",
            "Na pagórku niewielkim, we brzozowym gaju,\n",
            "\n",
            "Stał dwór szlachecki, z drzewa, lecz podmurowany;\n",
            "\n",
            "Świeciły się z daleka pobielane ściany,\n",
            "\n",
            "Tym bielsze, że odbite od ciemnej zieleni\n",
            "\n",
            "Topoli, co go bronią od wiatrów jesieni.\n",
            "\n",
            "Dom mieszkalny niewielki, lecz zewsząd chędogi,\n",
            "\n",
            "I stodołę miał wielką, i przy niej trzy stogi\n",
            "\n",
            "Użątku, co pod strzechą zmieścić się nie może.\n",
            "\n",
            "Widać, że okolica obfita we zboże,\n",
            "\n",
            "I widać z liczby kopic, co wzdłuż i wszerz smugów\n",
            "\n",
            "Świecą gęsto jak gwiazdy, widać z liczby pługów\n",
            "\n",
            "Orzących wcześnie łany ogromne ugoru,\n",
            "\n",
            "Czarnoziemne, zapewne należne do dworu,\n",
            "\n",
            "Uprawne dobrze na kształt ogrodowych grządek:\n",
            "\n",
            "Że w tym domu dostatek mieszka i porządek.\n",
            "\n",
            "Brama na wciąż otwarta przechodniom ogłasza,\n",
            "\n",
            "Że gościnna, i wszystkich w gościnę zaprasza.\n",
            "\n",
            "\n",
            "\n",
            "    Właśnie dwukonną bryką wjechał młody panek\n",
            "\n",
            "I obiegłszy dziedziniec zawrócił przed ganek.\n",
            "\n",
            "Wysiadł z powozu; konie porzucone same,\n",
            "\n",
            "Szczypiąc trawę ciągnęły powoli pod bramę.\n",
            "\n",
            "We dworze pusto: bo drzwi od ganku zamknięto\n",
            "\n",
            "Zaszczepkami i kołkiem zaszczepki przetknięto.\n",
            "\n",
            "Podróżny do folwarku nie biegł sług zapytać,\n",
            "\n",
            "Odemknął, wbiegł do domu, pragnął go powitać.\n",
            "\n",
            "Dawno domu nie widział, bo w dalekim mieście\n",
            "\n",
            "Kończył nauki, końca doczekał nareszcie.\n",
            "\n",
            "Wbiega i okiem chciwie ściany starodawne\n",
            "\n",
            "Ogląda czule, jako swe znajome dawne.\n",
            "\n",
            "Też same widzi sprzęty, też same obicia,\n",
            "\n",
            "Z którymi się zabawiać lubił od powicia,\n",
            "\n",
            "Lecz mniej wielkie, mniej piękne niż się dawniej zdały.\n",
            "\n",
            "I też same portrety na ścianach wisiały:\n",
            "\n",
            "Tu Kościuszko w czamarce krakowskiej, z oczyma\n",
            "\n",
            "Podniesionymi w niebo, miecz oburącz trzyma;\n",
            "\n",
            "Takim był, gdy przysięgał na stopniach ołtarzów,\n",
            "\n",
            "Że tym mieczem wypędzi z Polski trzech mocarzów,\n",
            "\n",
            "Albo sam na nim padnie. Dalej w polskiej szacie\n",
            "\n",
            "Siedzi Rejtan, żałośny po wolności stracie;\n",
            "\n",
            "W ręku trzyma nóż ostrzem zwrócony do łona,\n",
            "\n",
            "A przed nim leży Fedon i żywot Katona.\n",
            "\n",
            "Dalej Jasiński, młodzian piękny i posępny;\n",
            "\n",
            "Obok Korsak, towarzysz jego nieodstępny:\n",
            "\n",
            "Stoją na szańcach Pragi, na stosach Moskali,\n",
            "\n",
            "Siekąc wrogów, a Praga już się wkoło pali.\n",
            "\n",
            "Nawet stary stojący zegar kurantowy\n",
            "\n",
            "W drewnianej szafie poznał, u wniścia alkowy;\n",
            "\n",
            "I z dziecinną radością pociągnął za sznurek.\n",
            "\n",
            "By stary Dąbrowskiego usłyszeć mazurek.\n",
            "\n",
            "\n",
            "\n",
            "    Biegał po całym domu i szukał komnaty,\n",
            "\n",
            "Gdzie mieszkał dzieckiem będąc, przed dziesięciu laty.\n",
            "\n",
            "Wchodzi, cofnął się, toczył zdumione źrenice\n",
            "\n",
            "Po ścianach: w tej komnacie mieszkanie kobiéce!\n",
            "\n",
            "Któż by tu mieszkał? Stary stryj nie był żonaty;\n",
            "\n",
            "A ciotka w Petersburgu mieszkała przed laty.\n",
            "\n",
            "To nie był ochmistrzyni pokój? Fortepiano?\n",
            "\n"
          ]
        }
      ]
    },
    {
      "cell_type": "code",
      "source": [
        "with open('p.txt', 'a+') as file:\n",
        "    print(file.readlines())"
      ],
      "metadata": {
        "id": "oeW7NA8c1I80",
        "outputId": "24528966-1c14-4cc7-8efa-c97f90db6469",
        "colab": {
          "base_uri": "https://localhost:8080/"
        }
      },
      "execution_count": 31,
      "outputs": [
        {
          "output_type": "stream",
          "name": "stdout",
          "text": [
            "[]\n"
          ]
        }
      ]
    }
  ]
}
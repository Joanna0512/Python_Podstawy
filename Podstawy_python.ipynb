{
  "nbformat": 4,
  "nbformat_minor": 0,
  "metadata": {
    "colab": {
      "provenance": [],
      "toc_visible": true,
      "authorship_tag": "ABX9TyMcOZo0pxtm/nj42eM/xgL4",
      "include_colab_link": true
    },
    "kernelspec": {
      "name": "python3",
      "display_name": "Python 3"
    },
    "language_info": {
      "name": "python"
    }
  },
  "cells": [
    {
      "cell_type": "markdown",
      "metadata": {
        "id": "view-in-github",
        "colab_type": "text"
      },
      "source": [
        "<a href=\"https://colab.research.google.com/github/Joanna0512/Python_Podstawy/blob/main/Podstawy_python.ipynb\" target=\"_parent\"><img src=\"https://colab.research.google.com/assets/colab-badge.svg\" alt=\"Open In Colab\"/></a>"
      ]
    },
    {
      "cell_type": "markdown",
      "source": [
        "##WYRAŻENIA LISTOWE"
      ],
      "metadata": {
        "id": "42ZrdGrsM65d"
      }
    },
    {
      "cell_type": "code",
      "source": [
        "old_list = [1,2,3,4,5,6]\n",
        "new_list = [x**2 for x in old_list if x%2] #nieparzyste"
      ],
      "metadata": {
        "id": "BbZF_YSGM9ZV"
      },
      "execution_count": null,
      "outputs": []
    },
    {
      "cell_type": "code",
      "source": [
        "new_list"
      ],
      "metadata": {
        "colab": {
          "base_uri": "https://localhost:8080/"
        },
        "id": "icpWAVl0NHV6",
        "outputId": "93da1481-8f9d-4cb8-b300-07310e5cb130"
      },
      "execution_count": null,
      "outputs": [
        {
          "output_type": "execute_result",
          "data": {
            "text/plain": [
              "[1, 9, 25]"
            ]
          },
          "metadata": {},
          "execution_count": 2
        }
      ]
    },
    {
      "cell_type": "code",
      "source": [
        "x=1"
      ],
      "metadata": {
        "id": "rA8XkpXzNvyl"
      },
      "execution_count": null,
      "outputs": []
    },
    {
      "cell_type": "code",
      "source": [
        "new_list = [x**2 for x in old_list if not x%2] #parzyste"
      ],
      "metadata": {
        "id": "-WymeZmeNIRS"
      },
      "execution_count": null,
      "outputs": []
    },
    {
      "cell_type": "code",
      "source": [
        "new_list"
      ],
      "metadata": {
        "colab": {
          "base_uri": "https://localhost:8080/"
        },
        "id": "jtaNwdl6NuEx",
        "outputId": "c4248caa-2b67-49f1-9282-64d71c731011"
      },
      "execution_count": null,
      "outputs": [
        {
          "output_type": "execute_result",
          "data": {
            "text/plain": [
              "[4, 16, 36]"
            ]
          },
          "metadata": {},
          "execution_count": 5
        }
      ]
    },
    {
      "cell_type": "markdown",
      "source": [
        "## Funkcje LISTY"
      ],
      "metadata": {
        "id": "d3tJDtv2YEMp"
      }
    },
    {
      "cell_type": "code",
      "source": [
        "lista = [1,3,7,11,2,-6,0]"
      ],
      "metadata": {
        "id": "ZPUYufinYDfa"
      },
      "execution_count": null,
      "outputs": []
    },
    {
      "cell_type": "code",
      "source": [
        "min(lista)"
      ],
      "metadata": {
        "id": "jKmcVBz0YK_h",
        "outputId": "7cb8542d-b4d9-4578-e16d-b1aa8394b6cc",
        "colab": {
          "base_uri": "https://localhost:8080/"
        }
      },
      "execution_count": null,
      "outputs": [
        {
          "output_type": "execute_result",
          "data": {
            "text/plain": [
              "-6"
            ]
          },
          "metadata": {},
          "execution_count": 12
        }
      ]
    },
    {
      "cell_type": "code",
      "source": [
        "max(lista)"
      ],
      "metadata": {
        "id": "ymqQ9M9tYNZi",
        "outputId": "5983794e-92ff-4041-cbd1-aa4931691ff6",
        "colab": {
          "base_uri": "https://localhost:8080/"
        }
      },
      "execution_count": null,
      "outputs": [
        {
          "output_type": "execute_result",
          "data": {
            "text/plain": [
              "11"
            ]
          },
          "metadata": {},
          "execution_count": 13
        }
      ]
    },
    {
      "cell_type": "code",
      "source": [
        "sum(lista)"
      ],
      "metadata": {
        "id": "II3W1YQXYPWM",
        "outputId": "ff68a8a6-badf-4e02-8de8-e92c5e80c33a",
        "colab": {
          "base_uri": "https://localhost:8080/"
        }
      },
      "execution_count": null,
      "outputs": [
        {
          "output_type": "execute_result",
          "data": {
            "text/plain": [
              "18"
            ]
          },
          "metadata": {},
          "execution_count": 14
        }
      ]
    },
    {
      "cell_type": "code",
      "source": [
        "liczby = list(range(1,11))"
      ],
      "metadata": {
        "id": "j6_aYupVx8WE"
      },
      "execution_count": 25,
      "outputs": []
    },
    {
      "cell_type": "code",
      "source": [
        "liczby"
      ],
      "metadata": {
        "id": "CyobVmvqx_mg",
        "outputId": "c18dd128-403e-45d0-be0a-b1966b3867a8",
        "colab": {
          "base_uri": "https://localhost:8080/"
        }
      },
      "execution_count": 26,
      "outputs": [
        {
          "output_type": "execute_result",
          "data": {
            "text/plain": [
              "[1, 2, 3, 4, 5, 6, 7, 8, 9, 10]"
            ]
          },
          "metadata": {},
          "execution_count": 26
        }
      ]
    },
    {
      "cell_type": "markdown",
      "source": [
        "#STRING"
      ],
      "metadata": {
        "id": "l0-Z1Y3gSMau"
      }
    },
    {
      "cell_type": "code",
      "source": [
        "fruit = \"apple,banana,pear\"\n",
        "fruit.split(',') #tworzenie listy ze stringa\n"
      ],
      "metadata": {
        "colab": {
          "base_uri": "https://localhost:8080/"
        },
        "id": "PmoLz4ODPNF8",
        "outputId": "33f54cf5-e892-4cb2-f8aa-1253e1ba9e99"
      },
      "execution_count": 29,
      "outputs": [
        {
          "output_type": "execute_result",
          "data": {
            "text/plain": [
              "['apple', 'banana', 'pear']"
            ]
          },
          "metadata": {},
          "execution_count": 29
        }
      ]
    },
    {
      "cell_type": "code",
      "source": [
        "fruit = ['apple', 'banana', 'pear']\n",
        "''.join(fruit)"
      ],
      "metadata": {
        "colab": {
          "base_uri": "https://localhost:8080/",
          "height": 35
        },
        "id": "jYYd3kczR0D7",
        "outputId": "ba39c041-fc1c-43ca-b03d-1b290fcfc047"
      },
      "execution_count": null,
      "outputs": [
        {
          "output_type": "execute_result",
          "data": {
            "text/plain": [
              "'applebananapear'"
            ],
            "application/vnd.google.colaboratory.intrinsic+json": {
              "type": "string"
            }
          },
          "metadata": {},
          "execution_count": 7
        }
      ]
    },
    {
      "cell_type": "code",
      "source": [
        "', '.join(fruit)"
      ],
      "metadata": {
        "colab": {
          "base_uri": "https://localhost:8080/",
          "height": 35
        },
        "id": "bAygmAIkR_NZ",
        "outputId": "c82811b4-3681-497b-d503-a0956670a910"
      },
      "execution_count": null,
      "outputs": [
        {
          "output_type": "execute_result",
          "data": {
            "text/plain": [
              "'apple, banana, pear'"
            ],
            "application/vnd.google.colaboratory.intrinsic+json": {
              "type": "string"
            }
          },
          "metadata": {},
          "execution_count": 8
        }
      ]
    },
    {
      "cell_type": "code",
      "source": [
        "txt = 'Joanna'"
      ],
      "metadata": {
        "id": "AgweAOvxUyl_"
      },
      "execution_count": null,
      "outputs": []
    },
    {
      "cell_type": "code",
      "source": [
        "txt[::-1] \n"
      ],
      "metadata": {
        "id": "aKPaa0L7U0Mg",
        "outputId": "9e8cd540-0d01-4e2a-f6cb-428dc4c387b0",
        "colab": {
          "base_uri": "https://localhost:8080/",
          "height": 35
        }
      },
      "execution_count": null,
      "outputs": [
        {
          "output_type": "execute_result",
          "data": {
            "text/plain": [
              "'annaoJ'"
            ],
            "application/vnd.google.colaboratory.intrinsic+json": {
              "type": "string"
            }
          },
          "metadata": {},
          "execution_count": 10
        }
      ]
    },
    {
      "cell_type": "code",
      "source": [
        "txt[-2:]+txt[:-2] "
      ],
      "metadata": {
        "id": "pTQdsB81VMl8",
        "outputId": "2dc9a3d0-7654-4e42-f3c4-f7b27f1965ee",
        "colab": {
          "base_uri": "https://localhost:8080/",
          "height": 35
        }
      },
      "execution_count": null,
      "outputs": [
        {
          "output_type": "execute_result",
          "data": {
            "text/plain": [
              "'naJoan'"
            ],
            "application/vnd.google.colaboratory.intrinsic+json": {
              "type": "string"
            }
          },
          "metadata": {},
          "execution_count": 11
        }
      ]
    },
    {
      "cell_type": "code",
      "source": [
        "x = [*set(txt)] #set pokazuje unikalne wartości"
      ],
      "metadata": {
        "id": "koZN3szDWeQa"
      },
      "execution_count": null,
      "outputs": []
    },
    {
      "cell_type": "code",
      "source": [
        "x"
      ],
      "metadata": {
        "id": "4vIJWCMCWiry",
        "outputId": "676f1b6c-76cf-47b5-e750-f4847af2293a",
        "colab": {
          "base_uri": "https://localhost:8080/"
        }
      },
      "execution_count": null,
      "outputs": [
        {
          "output_type": "execute_result",
          "data": {
            "text/plain": [
              "['J', 'o', 'n', 'a']"
            ]
          },
          "metadata": {},
          "execution_count": 13
        }
      ]
    },
    {
      "cell_type": "markdown",
      "source": [
        "Wypisz znaki z tekstu, które znajdują się na parzystych indeksach"
      ],
      "metadata": {
        "id": "PLWjIjk4zJmp"
      }
    },
    {
      "cell_type": "code",
      "source": [
        "fruit[::2] #:: oznacza wszystkie, 2 = co drugą"
      ],
      "metadata": {
        "id": "qgo8-qoVzKcY",
        "outputId": "473833e6-e437-44bb-ccf8-05b5af33bb9c",
        "colab": {
          "base_uri": "https://localhost:8080/",
          "height": 35
        }
      },
      "execution_count": 30,
      "outputs": [
        {
          "output_type": "execute_result",
          "data": {
            "text/plain": [
              "'apebnn,er'"
            ],
            "application/vnd.google.colaboratory.intrinsic+json": {
              "type": "string"
            }
          },
          "metadata": {},
          "execution_count": 30
        }
      ]
    },
    {
      "cell_type": "markdown",
      "source": [
        "Napisać funckje do usunięcia pierwszych n znaków z tekstu"
      ],
      "metadata": {
        "id": "btNYdHxNzq6q"
      }
    },
    {
      "cell_type": "code",
      "source": [
        "tekst2 = \"Ala ma kota, kot ma Ale\""
      ],
      "metadata": {
        "id": "XTFX7K7mzrzD"
      },
      "execution_count": 31,
      "outputs": []
    },
    {
      "cell_type": "code",
      "source": [
        "n = int(input(\"usuń tyle pierwszych liter: \"))\n",
        "tekst2[n:]"
      ],
      "metadata": {
        "id": "DXfPnFIUzxX6",
        "outputId": "23370b72-3300-4192-ca10-680437e89edb",
        "colab": {
          "base_uri": "https://localhost:8080/",
          "height": 53
        }
      },
      "execution_count": 34,
      "outputs": [
        {
          "name": "stdout",
          "output_type": "stream",
          "text": [
            "usuń tyle pierwszych liter: 5\n"
          ]
        },
        {
          "output_type": "execute_result",
          "data": {
            "text/plain": [
              "'a kota, kot ma Ale'"
            ],
            "application/vnd.google.colaboratory.intrinsic+json": {
              "type": "string"
            }
          },
          "metadata": {},
          "execution_count": 34
        }
      ]
    },
    {
      "cell_type": "markdown",
      "source": [
        "Napisz funkcje, która będzie przepisywać int w odwrotnej kolejności"
      ],
      "metadata": {
        "id": "0UjQZ0R70N9w"
      }
    },
    {
      "cell_type": "code",
      "source": [
        "tekst2[::-1]"
      ],
      "metadata": {
        "id": "q2NujvIR0PVX",
        "outputId": "b6a1392c-6882-4db9-a318-627ae1d9571d",
        "colab": {
          "base_uri": "https://localhost:8080/",
          "height": 35
        }
      },
      "execution_count": 37,
      "outputs": [
        {
          "output_type": "execute_result",
          "data": {
            "text/plain": [
              "'elA am tok ,atok am alA'"
            ],
            "application/vnd.google.colaboratory.intrinsic+json": {
              "type": "string"
            }
          },
          "metadata": {},
          "execution_count": 37
        }
      ]
    },
    {
      "cell_type": "markdown",
      "source": [
        "#ZIP\n"
      ],
      "metadata": {
        "id": "BL_iarkEYZBa"
      }
    },
    {
      "cell_type": "code",
      "source": [
        " a = ['a', 'b', 'c']"
      ],
      "metadata": {
        "id": "yEECjRVfWjHf"
      },
      "execution_count": null,
      "outputs": []
    },
    {
      "cell_type": "code",
      "source": [
        " b = [1,2,3,4] "
      ],
      "metadata": {
        "id": "kyHaqVhOYc2i"
      },
      "execution_count": null,
      "outputs": []
    },
    {
      "cell_type": "code",
      "source": [
        "c = list(zip(a,b))"
      ],
      "metadata": {
        "id": "JHYmtclbY10G"
      },
      "execution_count": null,
      "outputs": []
    },
    {
      "cell_type": "code",
      "source": [
        "c"
      ],
      "metadata": {
        "id": "YICRIpt4ZG4a",
        "outputId": "3c1b6594-aaa7-4295-ba9c-e1f52643e224",
        "colab": {
          "base_uri": "https://localhost:8080/"
        }
      },
      "execution_count": null,
      "outputs": [
        {
          "output_type": "execute_result",
          "data": {
            "text/plain": [
              "[('a', 1), ('b', 2), ('c', 3)]"
            ]
          },
          "metadata": {},
          "execution_count": 35
        }
      ]
    },
    {
      "cell_type": "markdown",
      "source": [
        "#SET"
      ],
      "metadata": {
        "id": "8ju9vx92aHfd"
      }
    },
    {
      "cell_type": "code",
      "source": [
        "a = set('abrakadabra') #set tworzymy za pomoca nawiasów okrągłych"
      ],
      "metadata": {
        "id": "jUE-wquYn7In"
      },
      "execution_count": null,
      "outputs": []
    },
    {
      "cell_type": "code",
      "source": [
        "a"
      ],
      "metadata": {
        "id": "oG3c2AhBn-ll",
        "outputId": "3658a864-f5f3-4fdd-ca0c-87aaf6bd5105",
        "colab": {
          "base_uri": "https://localhost:8080/"
        }
      },
      "execution_count": null,
      "outputs": [
        {
          "output_type": "execute_result",
          "data": {
            "text/plain": [
              "{'a', 'b', 'd', 'k', 'r'}"
            ]
          },
          "metadata": {},
          "execution_count": 19
        }
      ]
    },
    {
      "cell_type": "code",
      "source": [
        "aa = [1,2,3,4]"
      ],
      "metadata": {
        "id": "oHuu8CpNaF_X"
      },
      "execution_count": null,
      "outputs": []
    },
    {
      "cell_type": "code",
      "source": [
        "bb= [1,2,3]"
      ],
      "metadata": {
        "id": "yOGVxSUcaNjZ"
      },
      "execution_count": null,
      "outputs": []
    },
    {
      "cell_type": "code",
      "source": [
        "cc = aa+bb"
      ],
      "metadata": {
        "id": "my4ctJ2IaPER"
      },
      "execution_count": null,
      "outputs": []
    },
    {
      "cell_type": "code",
      "source": [
        "list(set(cc))"
      ],
      "metadata": {
        "id": "pR-5APhdaQk3",
        "outputId": "60ed2fb5-cab3-4a00-f7eb-ef851362c71f",
        "colab": {
          "base_uri": "https://localhost:8080/"
        }
      },
      "execution_count": null,
      "outputs": [
        {
          "output_type": "execute_result",
          "data": {
            "text/plain": [
              "[1, 2, 3, 4]"
            ]
          },
          "metadata": {},
          "execution_count": 23
        }
      ]
    },
    {
      "cell_type": "markdown",
      "source": [
        "#WYRAŻENIA SET"
      ],
      "metadata": {
        "id": "KiNILBGCcPAu"
      }
    },
    {
      "cell_type": "code",
      "source": [
        "name_list = ['ala', 'kasia', 'zenek', 'norbet']"
      ],
      "metadata": {
        "id": "pTWayxxsaTYh"
      },
      "execution_count": null,
      "outputs": []
    },
    {
      "cell_type": "code",
      "source": [
        "name_lenght = {len(word) for word in name_list} #podaj długość kazdego słowa z listy"
      ],
      "metadata": {
        "id": "764AMqg6cT09"
      },
      "execution_count": null,
      "outputs": []
    },
    {
      "cell_type": "code",
      "source": [
        "name_lenght"
      ],
      "metadata": {
        "id": "xMsnaGP7ccu9",
        "outputId": "02905fe5-08a6-4707-a95f-1a57618b159d",
        "colab": {
          "base_uri": "https://localhost:8080/"
        }
      },
      "execution_count": null,
      "outputs": [
        {
          "output_type": "execute_result",
          "data": {
            "text/plain": [
              "{3, 5, 6}"
            ]
          },
          "metadata": {},
          "execution_count": 26
        }
      ]
    },
    {
      "cell_type": "markdown",
      "source": [
        "WYRAŻENIA DICT"
      ],
      "metadata": {
        "id": "s0fHacVoVyN-"
      }
    },
    {
      "cell_type": "code",
      "source": [
        "old_dict = {'police':997, 'emergency': 999, 'fire': 998}"
      ],
      "metadata": {
        "id": "q7H3sr9KcdTp"
      },
      "execution_count": null,
      "outputs": []
    },
    {
      "cell_type": "code",
      "source": [
        "new_dict = {v: k for k, v in old_dict.items()}"
      ],
      "metadata": {
        "id": "pqrT_m3AV9IM"
      },
      "execution_count": null,
      "outputs": []
    },
    {
      "cell_type": "code",
      "source": [
        "new_dict"
      ],
      "metadata": {
        "id": "_PMMBgvtWBpU",
        "outputId": "78ad6f22-7cfc-4ad0-aabf-f1f29ce489dc",
        "colab": {
          "base_uri": "https://localhost:8080/"
        }
      },
      "execution_count": null,
      "outputs": [
        {
          "output_type": "execute_result",
          "data": {
            "text/plain": [
              "{997: 'police', 999: 'emergency', 998: 'fire'}"
            ]
          },
          "metadata": {},
          "execution_count": 29
        }
      ]
    },
    {
      "cell_type": "code",
      "source": [
        "for k in old_dict:#zawsze drukuje sie klucz\n",
        "  print(k)"
      ],
      "metadata": {
        "id": "TD4c02QXWOLM",
        "outputId": "da8d9b1a-7885-4955-941b-05cca2b51080",
        "colab": {
          "base_uri": "https://localhost:8080/"
        }
      },
      "execution_count": null,
      "outputs": [
        {
          "output_type": "stream",
          "name": "stdout",
          "text": [
            "police\n",
            "emergency\n",
            "fire\n"
          ]
        }
      ]
    },
    {
      "cell_type": "code",
      "source": [
        "old_dict.items()"
      ],
      "metadata": {
        "id": "NkrUkNRHWhK9",
        "outputId": "7fd5ee87-4452-4a74-dd99-62b3dc74b38c",
        "colab": {
          "base_uri": "https://localhost:8080/"
        }
      },
      "execution_count": null,
      "outputs": [
        {
          "output_type": "execute_result",
          "data": {
            "text/plain": [
              "dict_items([('police', 997), ('emergency', 999), ('fire', 998)])"
            ]
          },
          "metadata": {},
          "execution_count": 31
        }
      ]
    },
    {
      "cell_type": "markdown",
      "source": [
        "OPERACJE NA PLIKACH"
      ],
      "metadata": {
        "id": "8GyLWAxgkevr"
      }
    },
    {
      "cell_type": "code",
      "source": [
        "f = open('file.txt', mode='w')"
      ],
      "metadata": {
        "id": "wCf3pZALkdgx"
      },
      "execution_count": null,
      "outputs": []
    },
    {
      "cell_type": "code",
      "source": [
        "f.write('ala ma psa')"
      ],
      "metadata": {
        "id": "Pj1ZMoxZk5vb",
        "outputId": "e5d1ca2a-eefe-40c5-ba20-da9f831066bb",
        "colab": {
          "base_uri": "https://localhost:8080/"
        }
      },
      "execution_count": null,
      "outputs": [
        {
          "output_type": "execute_result",
          "data": {
            "text/plain": [
              "10"
            ]
          },
          "metadata": {},
          "execution_count": 56
        }
      ]
    },
    {
      "cell_type": "code",
      "source": [
        "f.close()"
      ],
      "metadata": {
        "id": "PmzrtmJnk-In"
      },
      "execution_count": null,
      "outputs": []
    },
    {
      "cell_type": "code",
      "source": [
        "string2 ='hello Joann'"
      ],
      "metadata": {
        "id": "3W7OGFe_Q7TC"
      },
      "execution_count": null,
      "outputs": []
    },
    {
      "cell_type": "code",
      "source": [
        "f2 = open('file2.txt', mode='w')\n",
        "f2.write(string2)\n",
        "f2.close()"
      ],
      "metadata": {
        "id": "tVmhgcBQQteF"
      },
      "execution_count": null,
      "outputs": []
    },
    {
      "cell_type": "code",
      "source": [
        "string3 ='Hello You too'\n",
        "f2 = open('file2.txt', mode='a') #a - dopisywanie, jeśli plik nie istnieje to zostanie utworzony, jeśli istnieje to nowa treść zostanie dopisana\n",
        "f2.writelines(string3)\n",
        "f2.close()"
      ],
      "metadata": {
        "id": "yCkjyJ6ZRIKA"
      },
      "execution_count": null,
      "outputs": []
    },
    {
      "cell_type": "code",
      "source": [
        "string4 ='\\nNew Line'\n",
        "f2 = open('file2.txt', mode='a')\n",
        "f2.writelines(string4)\n",
        "f2.close()"
      ],
      "metadata": {
        "id": "pYVxuPnjRfJ_"
      },
      "execution_count": null,
      "outputs": []
    },
    {
      "cell_type": "code",
      "source": [
        "f2 = open('file2.txt', mode='a')\n",
        "f2.write(\"\\nNice to met you\")\n",
        "f2.close()"
      ],
      "metadata": {
        "id": "C0hVUR1mR1ME"
      },
      "execution_count": null,
      "outputs": []
    },
    {
      "cell_type": "code",
      "source": [
        "f2 = open('file2.txt', mode='a')\n",
        "f2.writelines(\"\\nYou too\")\n",
        "f2.close()"
      ],
      "metadata": {
        "id": "3_d-A3baSrx0"
      },
      "execution_count": null,
      "outputs": []
    },
    {
      "cell_type": "code",
      "source": [
        "with open('file2.txt', mode='w') as file_2:\n",
        "  for t in range(100):\n",
        "    file_2.write(f'{t} C\\n') #czyli wydrukuj t(liczby od 0 do 100 i C, \\n = nowa linijka)"
      ],
      "metadata": {
        "id": "ZduXyBaNTr7P"
      },
      "execution_count": null,
      "outputs": []
    },
    {
      "cell_type": "code",
      "source": [
        "file_2 = open('file2.txt', mode='r')"
      ],
      "metadata": {
        "id": "fvAsFYuVVPBs"
      },
      "execution_count": null,
      "outputs": []
    },
    {
      "cell_type": "code",
      "source": [
        "tekst_z_pliku = file_2.read()"
      ],
      "metadata": {
        "id": "p2bB6x75VJSS"
      },
      "execution_count": null,
      "outputs": []
    },
    {
      "cell_type": "code",
      "source": [
        "tekst_z_pliku"
      ],
      "metadata": {
        "id": "-AMFWjYkViSr",
        "outputId": "692dfa2b-deab-4065-ebc1-a2a64711c6ad",
        "colab": {
          "base_uri": "https://localhost:8080/",
          "height": 105
        }
      },
      "execution_count": null,
      "outputs": [
        {
          "output_type": "execute_result",
          "data": {
            "text/plain": [
              "'0 C\\n1 C\\n2 C\\n3 C\\n4 C\\n5 C\\n6 C\\n7 C\\n8 C\\n9 C\\n10 C\\n11 C\\n12 C\\n13 C\\n14 C\\n15 C\\n16 C\\n17 C\\n18 C\\n19 C\\n20 C\\n21 C\\n22 C\\n23 C\\n24 C\\n25 C\\n26 C\\n27 C\\n28 C\\n29 C\\n30 C\\n31 C\\n32 C\\n33 C\\n34 C\\n35 C\\n36 C\\n37 C\\n38 C\\n39 C\\n40 C\\n41 C\\n42 C\\n43 C\\n44 C\\n45 C\\n46 C\\n47 C\\n48 C\\n49 C\\n50 C\\n51 C\\n52 C\\n53 C\\n54 C\\n55 C\\n56 C\\n57 C\\n58 C\\n59 C\\n60 C\\n61 C\\n62 C\\n63 C\\n64 C\\n65 C\\n66 C\\n67 C\\n68 C\\n69 C\\n70 C\\n71 C\\n72 C\\n73 C\\n74 C\\n75 C\\n76 C\\n77 C\\n78 C\\n79 C\\n80 C\\n81 C\\n82 C\\n83 C\\n84 C\\n85 C\\n86 C\\n87 C\\n88 C\\n89 C\\n90 C\\n91 C\\n92 C\\n93 C\\n94 C\\n95 C\\n96 C\\n97 C\\n98 C\\n99 C\\n'"
            ],
            "application/vnd.google.colaboratory.intrinsic+json": {
              "type": "string"
            }
          },
          "metadata": {},
          "execution_count": 18
        }
      ]
    },
    {
      "cell_type": "code",
      "source": [
        "tekst_z_pliku.split('\\n')"
      ],
      "metadata": {
        "id": "aKLIqHtQV_Qs"
      },
      "execution_count": null,
      "outputs": []
    },
    {
      "cell_type": "code",
      "source": [
        "file_2 = open('file2.txt', mode='r')"
      ],
      "metadata": {
        "id": "LkkQ6mhGXjzF"
      },
      "execution_count": null,
      "outputs": []
    },
    {
      "cell_type": "code",
      "source": [
        "for line in file_2:\n",
        "  print(line)"
      ],
      "metadata": {
        "id": "roJwbQ20WYpk"
      },
      "execution_count": null,
      "outputs": []
    },
    {
      "cell_type": "code",
      "source": [
        "file_2.close()"
      ],
      "metadata": {
        "id": "xYUWqKbIX5gj"
      },
      "execution_count": null,
      "outputs": []
    },
    {
      "cell_type": "code",
      "source": [
        "p = open('100_pan_tadeusz.txt',mode='r')\n",
        "\n",
        "while(True):\n",
        "  line =p.readline()\n",
        "  if not line:\n",
        "    break\n",
        "  print(line)"
      ],
      "metadata": {
        "id": "Nurjz7bIxy2b"
      },
      "execution_count": null,
      "outputs": []
    },
    {
      "cell_type": "code",
      "source": [
        "with open('p.txt', 'a+') as file:\n",
        "    print(file.readlines())"
      ],
      "metadata": {
        "id": "oeW7NA8c1I80",
        "outputId": "24528966-1c14-4cc7-8efa-c97f90db6469",
        "colab": {
          "base_uri": "https://localhost:8080/"
        }
      },
      "execution_count": null,
      "outputs": [
        {
          "output_type": "stream",
          "name": "stdout",
          "text": [
            "[]\n"
          ]
        }
      ]
    },
    {
      "cell_type": "markdown",
      "source": [
        "#PĘTLE"
      ],
      "metadata": {
        "id": "e90MEFcuUJK5"
      }
    },
    {
      "cell_type": "code",
      "source": [
        "y = 10\n",
        "\n",
        "while y>0:\n",
        "  y-=1\n",
        "  print(y)\n",
        "  if y == 5:\n",
        "    break\n",
        "else:\n",
        "  print('end')"
      ],
      "metadata": {
        "id": "KEXdeUQHULsX",
        "outputId": "9f1a205f-a90e-497a-91e9-bc0460ab24a9",
        "colab": {
          "base_uri": "https://localhost:8080/"
        }
      },
      "execution_count": null,
      "outputs": [
        {
          "output_type": "stream",
          "name": "stdout",
          "text": [
            "9\n",
            "8\n",
            "7\n",
            "6\n",
            "5\n"
          ]
        }
      ]
    },
    {
      "cell_type": "code",
      "source": [
        "kola = 10\n",
        "\n",
        "for kolo in range(1,11,2): #skacze co drugą liczbę przez 3 wartość w range\n",
        "    print(kolo)"
      ],
      "metadata": {
        "id": "9odSH_LgVVJ5",
        "outputId": "0a0c2f6b-354a-4e8c-b331-da2d0f365f44",
        "colab": {
          "base_uri": "https://localhost:8080/"
        }
      },
      "execution_count": null,
      "outputs": [
        {
          "output_type": "stream",
          "name": "stdout",
          "text": [
            "1\n",
            "3\n",
            "5\n",
            "7\n",
            "9\n"
          ]
        }
      ]
    },
    {
      "cell_type": "markdown",
      "source": [
        "ćwiczenie 3: Znajdź najmniejszą liczbę na liście"
      ],
      "metadata": {
        "id": "iYyfAyzZXT7D"
      }
    },
    {
      "cell_type": "code",
      "source": [
        "lista = [1,3,7,11,2,-6,0]"
      ],
      "metadata": {
        "id": "zZmz91QFXRGP"
      },
      "execution_count": null,
      "outputs": []
    },
    {
      "cell_type": "code",
      "source": [
        "najmniejsza = None\n",
        "for i in lista:\n",
        "    \n",
        "    # przy każdej iteracji, sprawdzamy czy zmienna i \n",
        "    # jest mniejsza przechowywane przez nas zmienna\n",
        "    # Jeżeli tak, to ją zapisujemy\n",
        "    \n",
        "    if najmniejsza == None or najmniejsza > i: \n",
        "        najmniejsza = i\n",
        "        \n",
        "print (\"najmniejsza liczba to:\", najmniejsza)"
      ],
      "metadata": {
        "id": "7fZ5DaP8Yy-y",
        "outputId": "c9be24d2-9634-4da6-d72c-08394777d49d",
        "colab": {
          "base_uri": "https://localhost:8080/"
        }
      },
      "execution_count": null,
      "outputs": [
        {
          "output_type": "stream",
          "name": "stdout",
          "text": [
            "najmniejsza liczba to: -6\n"
          ]
        }
      ]
    },
    {
      "cell_type": "markdown",
      "source": [
        "ćwiczenie 4: Przechodząc po kolei od 0 do 10, wypisać sumę danej liczby oraz liczby poprzedniej."
      ],
      "metadata": {
        "id": "bzSSLOi_ZXvW"
      }
    },
    {
      "cell_type": "code",
      "source": [
        "poprzednia = 0\n",
        "\n",
        "for i in range(0,11):\n",
        "  print(i, i + poprzednia)\n",
        "  poprzednia = i"
      ],
      "metadata": {
        "id": "PFTVq1MjaxNB",
        "outputId": "90d00d01-0815-47ad-c855-d1672bfaa4b5",
        "colab": {
          "base_uri": "https://localhost:8080/"
        }
      },
      "execution_count": null,
      "outputs": [
        {
          "output_type": "stream",
          "name": "stdout",
          "text": [
            "0 0\n",
            "1 1\n",
            "2 3\n",
            "3 5\n",
            "4 7\n",
            "5 9\n",
            "6 11\n",
            "7 13\n",
            "8 15\n",
            "9 17\n",
            "10 19\n"
          ]
        }
      ]
    },
    {
      "cell_type": "code",
      "source": [
        "for i in range(11):\n",
        "  print(i, i + i-1)"
      ],
      "metadata": {
        "id": "0NIofmKhwesE",
        "outputId": "45419538-e5ea-47e4-b067-e27f8222a5f5",
        "colab": {
          "base_uri": "https://localhost:8080/"
        }
      },
      "execution_count": 19,
      "outputs": [
        {
          "output_type": "stream",
          "name": "stdout",
          "text": [
            "0 -1\n",
            "1 1\n",
            "2 3\n",
            "3 5\n",
            "4 7\n",
            "5 9\n",
            "6 11\n",
            "7 13\n",
            "8 15\n",
            "9 17\n",
            "10 19\n"
          ]
        }
      ]
    },
    {
      "cell_type": "markdown",
      "source": [
        "Napisz typy obiektów w dowolnej liście"
      ],
      "metadata": {
        "id": "jzNCYqMdgceZ"
      }
    },
    {
      "cell_type": "code",
      "source": [
        "listaA = [1,2,3,4,'a', 'Bartek', 2.0, 1]"
      ],
      "metadata": {
        "id": "utxvxlUUa42W"
      },
      "execution_count": null,
      "outputs": []
    },
    {
      "cell_type": "code",
      "source": [
        "for i in listaA:\n",
        "  print(type(i))"
      ],
      "metadata": {
        "id": "WkCetqCtggUh",
        "outputId": "a613efa9-adfc-4839-9311-701345f2664b",
        "colab": {
          "base_uri": "https://localhost:8080/"
        }
      },
      "execution_count": null,
      "outputs": [
        {
          "output_type": "stream",
          "name": "stdout",
          "text": [
            "<class 'int'>\n",
            "<class 'int'>\n",
            "<class 'int'>\n",
            "<class 'int'>\n",
            "<class 'str'>\n",
            "<class 'str'>\n",
            "<class 'float'>\n",
            "<class 'int'>\n"
          ]
        }
      ]
    },
    {
      "cell_type": "markdown",
      "source": [
        "Funkcja do sprawdzenia, czy pierwszy I ostatni element listy są takie same."
      ],
      "metadata": {
        "id": "PRNIgfIig7Z3"
      }
    },
    {
      "cell_type": "code",
      "source": [
        "if listaA[0]==listaA[7]:\n",
        "  print('The same')\n",
        "else:\n",
        "  print('not the same')"
      ],
      "metadata": {
        "id": "1cIwkTdkgjf9",
        "outputId": "03229bd9-1132-4c0e-9de6-4ccf9d36ef36",
        "colab": {
          "base_uri": "https://localhost:8080/"
        }
      },
      "execution_count": null,
      "outputs": [
        {
          "output_type": "stream",
          "name": "stdout",
          "text": [
            "The same\n"
          ]
        }
      ]
    },
    {
      "cell_type": "markdown",
      "source": [
        "Wyprintować taki pattern: 1 22 333 4444"
      ],
      "metadata": {
        "id": "Tvhe0zgdi8xx"
      }
    },
    {
      "cell_type": "code",
      "source": [
        "pattern = [1,2,3,4]"
      ],
      "metadata": {
        "id": "MmreO8eHiuvd"
      },
      "execution_count": null,
      "outputs": []
    },
    {
      "cell_type": "code",
      "source": [
        "for i in pattern:\n",
        "  print([i]*i)"
      ],
      "metadata": {
        "colab": {
          "base_uri": "https://localhost:8080/"
        },
        "id": "SIAA7oJFjBFZ",
        "outputId": "0038892d-6ff8-42b7-cccf-7032f5789162"
      },
      "execution_count": null,
      "outputs": [
        {
          "output_type": "stream",
          "name": "stdout",
          "text": [
            "[1]\n",
            "[2, 2]\n",
            "[3, 3, 3]\n",
            "[4, 4, 4, 4]\n"
          ]
        }
      ]
    },
    {
      "cell_type": "markdown",
      "source": [
        "#List comprehantion"
      ],
      "metadata": {
        "id": "Z0DGO4huksnh"
      }
    },
    {
      "cell_type": "markdown",
      "source": [
        "Napisać funkcje, która tworzy listę na podstawie 2 list, przy czym że z pierwszej weźmiemy liczby parzyste, a z drugiej nieparzyste. Przykład: a=[1,2,3,6,4] b = [5,3,8,10,7] => wynik [2,6,4,5,3,7]"
      ],
      "metadata": {
        "id": "67FdUNwWk3Z5"
      }
    },
    {
      "cell_type": "code",
      "source": [
        "a = [1,2,3,6,4]\n",
        "b = [2,6,4,5,3,7]\n",
        "\n",
        "[i for i in a if  not i%2] + [i for i in b if i%2]"
      ],
      "metadata": {
        "id": "3jBHqH9Zk0Zh",
        "outputId": "218b83b9-a617-463c-eb0f-efdb583dc2c5",
        "colab": {
          "base_uri": "https://localhost:8080/"
        }
      },
      "execution_count": null,
      "outputs": [
        {
          "output_type": "execute_result",
          "data": {
            "text/plain": [
              "[2, 6, 4, 5, 3, 7]"
            ]
          },
          "metadata": {},
          "execution_count": 49
        }
      ]
    },
    {
      "cell_type": "markdown",
      "source": [
        "Narysować tabliczkę mnożenia od 1 do 10"
      ],
      "metadata": {
        "id": "mAOmZn2exAUa"
      }
    },
    {
      "cell_type": "code",
      "source": [
        "liczby = list(range(1,11))\n",
        "\n",
        "for x in liczby:\n",
        "  line = []\n",
        "  for y in liczby:\n",
        "    line.append(x*y)\n",
        "  print(line)"
      ],
      "metadata": {
        "id": "Sni2A7whxEas",
        "outputId": "28150c60-dc29-4c2b-bddb-db53286f703f",
        "colab": {
          "base_uri": "https://localhost:8080/"
        }
      },
      "execution_count": 28,
      "outputs": [
        {
          "output_type": "stream",
          "name": "stdout",
          "text": [
            "[1, 2, 3, 4, 5, 6, 7, 8, 9, 10]\n",
            "[2, 4, 6, 8, 10, 12, 14, 16, 18, 20]\n",
            "[3, 6, 9, 12, 15, 18, 21, 24, 27, 30]\n",
            "[4, 8, 12, 16, 20, 24, 28, 32, 36, 40]\n",
            "[5, 10, 15, 20, 25, 30, 35, 40, 45, 50]\n",
            "[6, 12, 18, 24, 30, 36, 42, 48, 54, 60]\n",
            "[7, 14, 21, 28, 35, 42, 49, 56, 63, 70]\n",
            "[8, 16, 24, 32, 40, 48, 56, 64, 72, 80]\n",
            "[9, 18, 27, 36, 45, 54, 63, 72, 81, 90]\n",
            "[10, 20, 30, 40, 50, 60, 70, 80, 90, 100]\n"
          ]
        }
      ]
    },
    {
      "cell_type": "code",
      "source": [
        "liczby"
      ],
      "metadata": {
        "id": "vBw4rR_Px2Rj",
        "outputId": "85b8f236-54e9-4256-eb9f-e6a6b1c39990",
        "colab": {
          "base_uri": "https://localhost:8080/"
        }
      },
      "execution_count": 24,
      "outputs": [
        {
          "output_type": "execute_result",
          "data": {
            "text/plain": [
              "[1, 2, 3, 4, 5, 6, 7, 8, 9, 10]"
            ]
          },
          "metadata": {},
          "execution_count": 24
        }
      ]
    },
    {
      "cell_type": "markdown",
      "source": [
        "#Funkcje"
      ],
      "metadata": {
        "id": "naagc4TitlZ-"
      }
    },
    {
      "cell_type": "markdown",
      "source": [
        "Funkcja do puszukiwania najmniejszej z 2 liczb wpisanych z klawiatury"
      ],
      "metadata": {
        "id": "reCbPdHFtsmS"
      }
    },
    {
      "cell_type": "code",
      "source": [
        "liczba_1 = int(input('wpisz liczbę: '))\n",
        "liczba_2 = int(input('wpisz drugą liczbę: '))\n"
      ],
      "metadata": {
        "id": "K6CGnAGTtn0p",
        "outputId": "d4a75cf4-18d2-458a-c150-791797c5a228",
        "colab": {
          "base_uri": "https://localhost:8080/"
        }
      },
      "execution_count": 9,
      "outputs": [
        {
          "name": "stdout",
          "output_type": "stream",
          "text": [
            "wpisz liczbę: 4\n",
            "wpisz drugą liczbę: 8\n"
          ]
        }
      ]
    },
    {
      "cell_type": "code",
      "source": [
        "def maximum(liczba_1, liczba_2):\n",
        "  if liczba_1>liczba_2:\n",
        "    return(liczba_1)\n",
        "  else:\n",
        "    return(liczba_2)"
      ],
      "metadata": {
        "id": "Ul4HyPCRuOCK"
      },
      "execution_count": 12,
      "outputs": []
    },
    {
      "cell_type": "code",
      "source": [
        "maximum(4,2)"
      ],
      "metadata": {
        "id": "SypduOYevKQU",
        "outputId": "08f43059-e6ab-46b5-e2d2-f8ef9ef68a84",
        "colab": {
          "base_uri": "https://localhost:8080/"
        }
      },
      "execution_count": 13,
      "outputs": [
        {
          "output_type": "execute_result",
          "data": {
            "text/plain": [
              "4"
            ]
          },
          "metadata": {},
          "execution_count": 13
        }
      ]
    },
    {
      "cell_type": "code",
      "source": [
        "def dzielenie(liczba1,liczba2):\n",
        "    return liczba1/liczba2"
      ],
      "metadata": {
        "id": "KhvL03UmvLcv"
      },
      "execution_count": 14,
      "outputs": []
    },
    {
      "cell_type": "code",
      "source": [
        "dzielenie(10,2)"
      ],
      "metadata": {
        "id": "28SgzsKWvv1r",
        "outputId": "26d4f146-bc2f-408a-8016-a757ea2fba9a",
        "colab": {
          "base_uri": "https://localhost:8080/"
        }
      },
      "execution_count": 15,
      "outputs": [
        {
          "output_type": "execute_result",
          "data": {
            "text/plain": [
              "5.0"
            ]
          },
          "metadata": {},
          "execution_count": 15
        }
      ]
    },
    {
      "cell_type": "code",
      "source": [
        "def srednia(liczba1, liczba2):\n",
        "  sr = (liczba1+liczba2)/2\n",
        "  print(sr)"
      ],
      "metadata": {
        "id": "mc5iQVSzwLHr"
      },
      "execution_count": 16,
      "outputs": []
    },
    {
      "cell_type": "code",
      "source": [
        "srednia(33,78)"
      ],
      "metadata": {
        "id": "HFHxgUTXwMhb",
        "outputId": "2a8de372-2908-4987-bbde-4ad42338eebf",
        "colab": {
          "base_uri": "https://localhost:8080/"
        }
      },
      "execution_count": 17,
      "outputs": [
        {
          "output_type": "stream",
          "name": "stdout",
          "text": [
            "55.5\n"
          ]
        }
      ]
    },
    {
      "cell_type": "markdown",
      "source": [
        "Napisz program obliczający odchylenie standardowe z listy"
      ],
      "metadata": {
        "id": "g146us4b068D"
      }
    },
    {
      "cell_type": "code",
      "source": [
        "listaX = [44, -9, 13, 77, 111, -43]"
      ],
      "metadata": {
        "id": "ElNljIQJ07k6"
      },
      "execution_count": 38,
      "outputs": []
    },
    {
      "cell_type": "code",
      "source": [
        "#najpierw liczę średnią\n",
        "avg = sum(listaX) / len(listaX)"
      ],
      "metadata": {
        "id": "hRZU0WP31l2E"
      },
      "execution_count": 41,
      "outputs": []
    },
    {
      "cell_type": "code",
      "source": [
        "avg\n"
      ],
      "metadata": {
        "id": "o-PtbR6w19F6",
        "outputId": "1622bb95-dc92-439e-e5e2-00188da6086b",
        "colab": {
          "base_uri": "https://localhost:8080/"
        }
      },
      "execution_count": 42,
      "outputs": [
        {
          "output_type": "execute_result",
          "data": {
            "text/plain": [
              "32.166666666666664"
            ]
          },
          "metadata": {},
          "execution_count": 42
        }
      ]
    },
    {
      "cell_type": "code",
      "source": [
        "#następnie liczę wariancję\n",
        "for i in listaX:\n",
        "  variance = (i-avg)**2/len(listaX)\n",
        "  print(variance)"
      ],
      "metadata": {
        "id": "HsbExFtS130F",
        "outputId": "b0699746-66e3-400c-fd75-cd27e3dbc34c",
        "colab": {
          "base_uri": "https://localhost:8080/"
        }
      },
      "execution_count": 46,
      "outputs": [
        {
          "output_type": "stream",
          "name": "stdout",
          "text": [
            "23.337962962962973\n",
            "282.4490740740741\n",
            "61.22685185185184\n",
            "335.0046296296297\n",
            "1035.7824074074076\n",
            "941.6712962962961\n"
          ]
        }
      ]
    },
    {
      "cell_type": "code",
      "source": [
        "variance"
      ],
      "metadata": {
        "id": "M-f6OqS020pW",
        "outputId": "ed93ba85-9685-4c08-e4a8-0e44ff6406c1",
        "colab": {
          "base_uri": "https://localhost:8080/"
        }
      },
      "execution_count": 47,
      "outputs": [
        {
          "output_type": "execute_result",
          "data": {
            "text/plain": [
              "941.6712962962961"
            ]
          },
          "metadata": {},
          "execution_count": 47
        }
      ]
    },
    {
      "cell_type": "code",
      "source": [],
      "metadata": {
        "id": "bNumX6ZI21UM"
      },
      "execution_count": null,
      "outputs": []
    }
  ]
}
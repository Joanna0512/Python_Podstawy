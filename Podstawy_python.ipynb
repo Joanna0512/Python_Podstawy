{
  "nbformat": 4,
  "nbformat_minor": 0,
  "metadata": {
    "colab": {
      "provenance": [],
      "toc_visible": true,
      "authorship_tag": "ABX9TyM+wgNrvq1bgnDl4sndr5Hy",
      "include_colab_link": true
    },
    "kernelspec": {
      "name": "python3",
      "display_name": "Python 3"
    },
    "language_info": {
      "name": "python"
    }
  },
  "cells": [
    {
      "cell_type": "markdown",
      "metadata": {
        "id": "view-in-github",
        "colab_type": "text"
      },
      "source": [
        "<a href=\"https://colab.research.google.com/github/Joanna0512/Python_Podstawy/blob/main/Podstawy_python.ipynb\" target=\"_parent\"><img src=\"https://colab.research.google.com/assets/colab-badge.svg\" alt=\"Open In Colab\"/></a>"
      ]
    },
    {
      "cell_type": "markdown",
      "source": [
        "##WYRAŻENIA LISTOWE"
      ],
      "metadata": {
        "id": "42ZrdGrsM65d"
      }
    },
    {
      "cell_type": "code",
      "source": [
        "old_list = [1,2,3,4,5,6]\n",
        "new_list = [x**2 for x in old_list if x%2] #nieparzyste"
      ],
      "metadata": {
        "id": "BbZF_YSGM9ZV"
      },
      "execution_count": null,
      "outputs": []
    },
    {
      "cell_type": "code",
      "source": [
        "new_list"
      ],
      "metadata": {
        "colab": {
          "base_uri": "https://localhost:8080/"
        },
        "id": "icpWAVl0NHV6",
        "outputId": "147b1cdc-e48c-499b-aa1d-c6d3045090af"
      },
      "execution_count": null,
      "outputs": [
        {
          "output_type": "execute_result",
          "data": {
            "text/plain": [
              "[1, 9, 25]"
            ]
          },
          "metadata": {},
          "execution_count": 3
        }
      ]
    },
    {
      "cell_type": "code",
      "source": [
        "x=1"
      ],
      "metadata": {
        "id": "rA8XkpXzNvyl"
      },
      "execution_count": null,
      "outputs": []
    },
    {
      "cell_type": "code",
      "source": [
        "new_list = [x**2 for x in old_list if not x%2] #parzyste"
      ],
      "metadata": {
        "id": "-WymeZmeNIRS"
      },
      "execution_count": null,
      "outputs": []
    },
    {
      "cell_type": "code",
      "source": [
        "new_list"
      ],
      "metadata": {
        "colab": {
          "base_uri": "https://localhost:8080/"
        },
        "id": "jtaNwdl6NuEx",
        "outputId": "810790a6-b1de-4bbc-f7b8-81418b1063d1"
      },
      "execution_count": null,
      "outputs": [
        {
          "output_type": "execute_result",
          "data": {
            "text/plain": [
              "[4, 16, 36]"
            ]
          },
          "metadata": {},
          "execution_count": 6
        }
      ]
    },
    {
      "cell_type": "code",
      "source": [
        "new_list.count(16) #policz ile razy w liście wystapiło 16"
      ],
      "metadata": {
        "colab": {
          "base_uri": "https://localhost:8080/"
        },
        "id": "RQbic0hCXSPg",
        "outputId": "bc191dc8-ced1-4a23-a01f-e84121c4858b"
      },
      "execution_count": null,
      "outputs": [
        {
          "output_type": "execute_result",
          "data": {
            "text/plain": [
              "1"
            ]
          },
          "metadata": {},
          "execution_count": 7
        }
      ]
    },
    {
      "cell_type": "code",
      "source": [
        "len(new_list) #długość listy"
      ],
      "metadata": {
        "colab": {
          "base_uri": "https://localhost:8080/"
        },
        "id": "Pg9VMa-yXqYC",
        "outputId": "782175e4-05f5-4242-ebb1-c5ba38b9e746"
      },
      "execution_count": null,
      "outputs": [
        {
          "output_type": "execute_result",
          "data": {
            "text/plain": [
              "3"
            ]
          },
          "metadata": {},
          "execution_count": 8
        }
      ]
    },
    {
      "cell_type": "markdown",
      "source": [
        "## Funkcje LISTY"
      ],
      "metadata": {
        "id": "d3tJDtv2YEMp"
      }
    },
    {
      "cell_type": "code",
      "source": [
        "lista = [1,3,7,11,2,-6,0]"
      ],
      "metadata": {
        "id": "ZPUYufinYDfa"
      },
      "execution_count": null,
      "outputs": []
    },
    {
      "cell_type": "code",
      "source": [
        "min(lista)"
      ],
      "metadata": {
        "id": "jKmcVBz0YK_h",
        "outputId": "e216dde2-3ca2-4786-db54-fe66283940c4",
        "colab": {
          "base_uri": "https://localhost:8080/"
        }
      },
      "execution_count": null,
      "outputs": [
        {
          "output_type": "execute_result",
          "data": {
            "text/plain": [
              "-6"
            ]
          },
          "metadata": {},
          "execution_count": 10
        }
      ]
    },
    {
      "cell_type": "markdown",
      "source": [
        "# Nowa sekcja"
      ],
      "metadata": {
        "id": "1RuyMikK_vLj"
      }
    },
    {
      "cell_type": "code",
      "source": [
        "max(lista)"
      ],
      "metadata": {
        "id": "ymqQ9M9tYNZi",
        "outputId": "214189ef-e3e9-469c-8224-dd4bb1247a38",
        "colab": {
          "base_uri": "https://localhost:8080/"
        }
      },
      "execution_count": null,
      "outputs": [
        {
          "output_type": "execute_result",
          "data": {
            "text/plain": [
              "11"
            ]
          },
          "metadata": {},
          "execution_count": 11
        }
      ]
    },
    {
      "cell_type": "code",
      "source": [
        "sum(lista)"
      ],
      "metadata": {
        "id": "II3W1YQXYPWM",
        "outputId": "4ed7db64-e704-40bd-fbd0-4a661e9f9827",
        "colab": {
          "base_uri": "https://localhost:8080/"
        }
      },
      "execution_count": null,
      "outputs": [
        {
          "output_type": "execute_result",
          "data": {
            "text/plain": [
              "18"
            ]
          },
          "metadata": {},
          "execution_count": 12
        }
      ]
    },
    {
      "cell_type": "code",
      "source": [
        "liczby = list(range(1,11))"
      ],
      "metadata": {
        "id": "j6_aYupVx8WE"
      },
      "execution_count": null,
      "outputs": []
    },
    {
      "cell_type": "code",
      "source": [
        "liczby"
      ],
      "metadata": {
        "id": "CyobVmvqx_mg",
        "outputId": "cb2e5143-0054-4161-f799-d73f8fa6121b",
        "colab": {
          "base_uri": "https://localhost:8080/"
        }
      },
      "execution_count": null,
      "outputs": [
        {
          "output_type": "execute_result",
          "data": {
            "text/plain": [
              "[1, 2, 3, 4, 5, 6, 7, 8, 9, 10]"
            ]
          },
          "metadata": {},
          "execution_count": 18
        }
      ]
    },
    {
      "cell_type": "code",
      "source": [
        "ocena = [2]*20 #kwadratowy nawias zapewnia niezmienność danej, z okrągłym wychodzi mnożenie"
      ],
      "metadata": {
        "id": "wFMxd-G8YcrZ"
      },
      "execution_count": null,
      "outputs": []
    },
    {
      "cell_type": "code",
      "source": [
        "ocena"
      ],
      "metadata": {
        "colab": {
          "base_uri": "https://localhost:8080/"
        },
        "id": "w95QEYVqYf4B",
        "outputId": "adf82678-3123-4d74-8901-2f42ae4514df"
      },
      "execution_count": null,
      "outputs": [
        {
          "output_type": "execute_result",
          "data": {
            "text/plain": [
              "[2, 2, 2, 2, 2, 2, 2, 2, 2, 2, 2, 2, 2, 2, 2, 2, 2, 2, 2, 2]"
            ]
          },
          "metadata": {},
          "execution_count": 15
        }
      ]
    },
    {
      "cell_type": "code",
      "source": [
        "liczby.append(11)"
      ],
      "metadata": {
        "id": "tPwL_kR6ZsQU"
      },
      "execution_count": null,
      "outputs": []
    },
    {
      "cell_type": "code",
      "source": [
        "liczby"
      ],
      "metadata": {
        "colab": {
          "base_uri": "https://localhost:8080/"
        },
        "id": "XFuV7IEFZy3B",
        "outputId": "4d7beb16-b414-40f2-bb89-cf9edc43e383"
      },
      "execution_count": null,
      "outputs": [
        {
          "output_type": "execute_result",
          "data": {
            "text/plain": [
              "[1, 2, 3, 4, 5, 6, 7, 8, 9, 10, 11]"
            ]
          },
          "metadata": {},
          "execution_count": 20
        }
      ]
    },
    {
      "cell_type": "code",
      "source": [
        "liczby +[12]"
      ],
      "metadata": {
        "colab": {
          "base_uri": "https://localhost:8080/"
        },
        "id": "3UuYR-yNZ0Oq",
        "outputId": "540c646f-3111-49c0-f212-f6a438c42b3b"
      },
      "execution_count": null,
      "outputs": [
        {
          "output_type": "execute_result",
          "data": {
            "text/plain": [
              "[1, 2, 3, 4, 5, 6, 7, 8, 9, 10, 11, 12]"
            ]
          },
          "metadata": {},
          "execution_count": 21
        }
      ]
    },
    {
      "cell_type": "code",
      "source": [
        "names = ['a', 'b', 'c']"
      ],
      "metadata": {
        "id": "FMgU_MqNZ9EJ"
      },
      "execution_count": null,
      "outputs": []
    },
    {
      "cell_type": "code",
      "source": [
        "names + ['d']"
      ],
      "metadata": {
        "colab": {
          "base_uri": "https://localhost:8080/"
        },
        "id": "3-adNeC4aBXq",
        "outputId": "becf2c2d-ee0c-4475-8770-37aa0cfb0119"
      },
      "execution_count": null,
      "outputs": [
        {
          "output_type": "execute_result",
          "data": {
            "text/plain": [
              "['a', 'b', 'c', 'd']"
            ]
          },
          "metadata": {},
          "execution_count": 25
        }
      ]
    },
    {
      "cell_type": "code",
      "source": [
        "for imie in enumerate(names):\n",
        "    print(imie)"
      ],
      "metadata": {
        "colab": {
          "base_uri": "https://localhost:8080/"
        },
        "id": "UYDBRWHMfm_a",
        "outputId": "23b521d4-b860-41b9-cdfa-1bd6c4dec7e2"
      },
      "execution_count": null,
      "outputs": [
        {
          "output_type": "stream",
          "name": "stdout",
          "text": [
            "(0, 'a')\n",
            "(1, 'b')\n",
            "(2, 'c')\n"
          ]
        }
      ]
    },
    {
      "cell_type": "code",
      "source": [
        "for i,imie in enumerate(names):\n",
        "    print(i,imie)"
      ],
      "metadata": {
        "colab": {
          "base_uri": "https://localhost:8080/"
        },
        "id": "rA2eYKTefyHg",
        "outputId": "bef65fe7-b243-4101-ec4d-75eec2a28294"
      },
      "execution_count": null,
      "outputs": [
        {
          "output_type": "stream",
          "name": "stdout",
          "text": [
            "0 a\n",
            "1 b\n",
            "2 c\n"
          ]
        }
      ]
    },
    {
      "cell_type": "code",
      "source": [
        "for count,imie in enumerate(names):\n",
        "    print(count,imie)"
      ],
      "metadata": {
        "colab": {
          "base_uri": "https://localhost:8080/"
        },
        "id": "dkyJXewmpbFH",
        "outputId": "deb850fe-a1b3-4228-e311-97d002f02443"
      },
      "execution_count": null,
      "outputs": [
        {
          "output_type": "stream",
          "name": "stdout",
          "text": [
            "0 a\n",
            "1 b\n",
            "2 c\n"
          ]
        }
      ]
    },
    {
      "cell_type": "markdown",
      "source": [
        "#STRING"
      ],
      "metadata": {
        "id": "l0-Z1Y3gSMau"
      }
    },
    {
      "cell_type": "code",
      "source": [
        "fruit = \"apple,banana,pear\"\n",
        "fruit.split(',') #tworzenie listy ze stringa\n"
      ],
      "metadata": {
        "colab": {
          "base_uri": "https://localhost:8080/"
        },
        "id": "PmoLz4ODPNF8",
        "outputId": "fc98d816-afff-49c1-f1ea-84a62fc29e31"
      },
      "execution_count": null,
      "outputs": [
        {
          "output_type": "execute_result",
          "data": {
            "text/plain": [
              "['apple', 'banana', 'pear']"
            ]
          },
          "metadata": {},
          "execution_count": 29
        }
      ]
    },
    {
      "cell_type": "code",
      "source": [
        "fruit = ['apple', 'banana', 'pear']\n",
        "''.join(fruit)"
      ],
      "metadata": {
        "colab": {
          "base_uri": "https://localhost:8080/",
          "height": 35
        },
        "id": "jYYd3kczR0D7",
        "outputId": "ba39c041-fc1c-43ca-b03d-1b290fcfc047"
      },
      "execution_count": null,
      "outputs": [
        {
          "output_type": "execute_result",
          "data": {
            "text/plain": [
              "'applebananapear'"
            ],
            "application/vnd.google.colaboratory.intrinsic+json": {
              "type": "string"
            }
          },
          "metadata": {},
          "execution_count": 7
        }
      ]
    },
    {
      "cell_type": "code",
      "source": [
        "', '.join(fruit)"
      ],
      "metadata": {
        "colab": {
          "base_uri": "https://localhost:8080/",
          "height": 35
        },
        "id": "bAygmAIkR_NZ",
        "outputId": "c82811b4-3681-497b-d503-a0956670a910"
      },
      "execution_count": null,
      "outputs": [
        {
          "output_type": "execute_result",
          "data": {
            "text/plain": [
              "'apple, banana, pear'"
            ],
            "application/vnd.google.colaboratory.intrinsic+json": {
              "type": "string"
            }
          },
          "metadata": {},
          "execution_count": 8
        }
      ]
    },
    {
      "cell_type": "code",
      "source": [
        "for i in fruit:\n",
        "  print(i)"
      ],
      "metadata": {
        "id": "5-XA21h8rnIN"
      },
      "execution_count": null,
      "outputs": []
    },
    {
      "cell_type": "code",
      "source": [
        "fruit.upper()"
      ],
      "metadata": {
        "colab": {
          "base_uri": "https://localhost:8080/",
          "height": 35
        },
        "id": "i5qZaoNJr5Bq",
        "outputId": "85024b84-a510-4a17-bb65-cdc9e7e2d811"
      },
      "execution_count": null,
      "outputs": [
        {
          "output_type": "execute_result",
          "data": {
            "text/plain": [
              "'APPLE,BANANA,PEAR'"
            ],
            "application/vnd.google.colaboratory.intrinsic+json": {
              "type": "string"
            }
          },
          "metadata": {},
          "execution_count": 34
        }
      ]
    },
    {
      "cell_type": "code",
      "source": [
        "fruit_2 = [t.upper() for t in fruit]"
      ],
      "metadata": {
        "id": "mlTENk1AsPT0"
      },
      "execution_count": null,
      "outputs": []
    },
    {
      "cell_type": "code",
      "source": [
        "type(fruit_2)"
      ],
      "metadata": {
        "colab": {
          "base_uri": "https://localhost:8080/"
        },
        "id": "Ak8o4rJEsXLc",
        "outputId": "253eb0a6-078b-44ac-9190-80b8a0800c5f"
      },
      "execution_count": null,
      "outputs": [
        {
          "output_type": "execute_result",
          "data": {
            "text/plain": [
              "list"
            ]
          },
          "metadata": {},
          "execution_count": 39
        }
      ]
    },
    {
      "cell_type": "code",
      "source": [
        "fruit_2"
      ],
      "metadata": {
        "colab": {
          "base_uri": "https://localhost:8080/"
        },
        "id": "ahTtHHsCskmQ",
        "outputId": "5aedbaae-5095-4751-9917-5f21098fdb3f"
      },
      "execution_count": null,
      "outputs": [
        {
          "output_type": "execute_result",
          "data": {
            "text/plain": [
              "['A',\n",
              " 'P',\n",
              " 'P',\n",
              " 'L',\n",
              " 'E',\n",
              " ',',\n",
              " 'B',\n",
              " 'A',\n",
              " 'N',\n",
              " 'A',\n",
              " 'N',\n",
              " 'A',\n",
              " ',',\n",
              " 'P',\n",
              " 'E',\n",
              " 'A',\n",
              " 'R']"
            ]
          },
          "metadata": {},
          "execution_count": 40
        }
      ]
    },
    {
      "cell_type": "code",
      "source": [
        "fruit_3 = ''.join(fruit_2)"
      ],
      "metadata": {
        "id": "MqEKx8y3uIgq"
      },
      "execution_count": null,
      "outputs": []
    },
    {
      "cell_type": "code",
      "source": [
        "fruit_3"
      ],
      "metadata": {
        "colab": {
          "base_uri": "https://localhost:8080/",
          "height": 35
        },
        "id": "zqllodHivLdy",
        "outputId": "845f95a1-385b-4dcc-ebb3-15dee68f0dd4"
      },
      "execution_count": null,
      "outputs": [
        {
          "output_type": "execute_result",
          "data": {
            "text/plain": [
              "'APPLE,BANANA,PEAR'"
            ],
            "application/vnd.google.colaboratory.intrinsic+json": {
              "type": "string"
            }
          },
          "metadata": {},
          "execution_count": 46
        }
      ]
    },
    {
      "cell_type": "code",
      "source": [
        "fruit_3.split(' ')"
      ],
      "metadata": {
        "colab": {
          "base_uri": "https://localhost:8080/"
        },
        "id": "M8F-dmQ0vN87",
        "outputId": "4b072ebe-2109-4a45-e5eb-316c1a98b9d0"
      },
      "execution_count": null,
      "outputs": [
        {
          "output_type": "execute_result",
          "data": {
            "text/plain": [
              "['APPLE,BANANA,PEAR']"
            ]
          },
          "metadata": {},
          "execution_count": 53
        }
      ]
    },
    {
      "cell_type": "code",
      "source": [
        "txt = 'Joanna'"
      ],
      "metadata": {
        "id": "AgweAOvxUyl_"
      },
      "execution_count": null,
      "outputs": []
    },
    {
      "cell_type": "code",
      "source": [
        "txt[::-1] \n"
      ],
      "metadata": {
        "id": "aKPaa0L7U0Mg",
        "outputId": "9e8cd540-0d01-4e2a-f6cb-428dc4c387b0",
        "colab": {
          "base_uri": "https://localhost:8080/",
          "height": 35
        }
      },
      "execution_count": null,
      "outputs": [
        {
          "output_type": "execute_result",
          "data": {
            "text/plain": [
              "'annaoJ'"
            ],
            "application/vnd.google.colaboratory.intrinsic+json": {
              "type": "string"
            }
          },
          "metadata": {},
          "execution_count": 10
        }
      ]
    },
    {
      "cell_type": "code",
      "source": [
        "txt[-2:]+txt[:-2] "
      ],
      "metadata": {
        "id": "pTQdsB81VMl8",
        "outputId": "2dc9a3d0-7654-4e42-f3c4-f7b27f1965ee",
        "colab": {
          "base_uri": "https://localhost:8080/",
          "height": 35
        }
      },
      "execution_count": null,
      "outputs": [
        {
          "output_type": "execute_result",
          "data": {
            "text/plain": [
              "'naJoan'"
            ],
            "application/vnd.google.colaboratory.intrinsic+json": {
              "type": "string"
            }
          },
          "metadata": {},
          "execution_count": 11
        }
      ]
    },
    {
      "cell_type": "code",
      "source": [
        "x = [*set(txt)] #set pokazuje unikalne wartości"
      ],
      "metadata": {
        "id": "koZN3szDWeQa"
      },
      "execution_count": null,
      "outputs": []
    },
    {
      "cell_type": "code",
      "source": [
        "x"
      ],
      "metadata": {
        "id": "4vIJWCMCWiry",
        "outputId": "676f1b6c-76cf-47b5-e750-f4847af2293a",
        "colab": {
          "base_uri": "https://localhost:8080/"
        }
      },
      "execution_count": null,
      "outputs": [
        {
          "output_type": "execute_result",
          "data": {
            "text/plain": [
              "['J', 'o', 'n', 'a']"
            ]
          },
          "metadata": {},
          "execution_count": 13
        }
      ]
    },
    {
      "cell_type": "markdown",
      "source": [
        "Wypisz znaki z tekstu, które znajdują się na parzystych indeksach"
      ],
      "metadata": {
        "id": "PLWjIjk4zJmp"
      }
    },
    {
      "cell_type": "code",
      "source": [
        "fruit[::2] #:: oznacza wszystkie, 2 = co drugą"
      ],
      "metadata": {
        "id": "qgo8-qoVzKcY",
        "outputId": "473833e6-e437-44bb-ccf8-05b5af33bb9c",
        "colab": {
          "base_uri": "https://localhost:8080/",
          "height": 35
        }
      },
      "execution_count": null,
      "outputs": [
        {
          "output_type": "execute_result",
          "data": {
            "text/plain": [
              "'apebnn,er'"
            ],
            "application/vnd.google.colaboratory.intrinsic+json": {
              "type": "string"
            }
          },
          "metadata": {},
          "execution_count": 30
        }
      ]
    },
    {
      "cell_type": "markdown",
      "source": [
        "Napisać funckje do usunięcia pierwszych n znaków z tekstu"
      ],
      "metadata": {
        "id": "btNYdHxNzq6q"
      }
    },
    {
      "cell_type": "code",
      "source": [
        "tekst2 = \"Ala ma kota, kot ma Ale\""
      ],
      "metadata": {
        "id": "XTFX7K7mzrzD"
      },
      "execution_count": null,
      "outputs": []
    },
    {
      "cell_type": "code",
      "source": [
        "n = int(input(\"usuń tyle pierwszych liter: \"))\n",
        "tekst2[n:]"
      ],
      "metadata": {
        "id": "DXfPnFIUzxX6",
        "outputId": "23370b72-3300-4192-ca10-680437e89edb",
        "colab": {
          "base_uri": "https://localhost:8080/",
          "height": 53
        }
      },
      "execution_count": null,
      "outputs": [
        {
          "name": "stdout",
          "output_type": "stream",
          "text": [
            "usuń tyle pierwszych liter: 5\n"
          ]
        },
        {
          "output_type": "execute_result",
          "data": {
            "text/plain": [
              "'a kota, kot ma Ale'"
            ],
            "application/vnd.google.colaboratory.intrinsic+json": {
              "type": "string"
            }
          },
          "metadata": {},
          "execution_count": 34
        }
      ]
    },
    {
      "cell_type": "markdown",
      "source": [
        "Napisz funkcje, która będzie przepisywać int w odwrotnej kolejności"
      ],
      "metadata": {
        "id": "0UjQZ0R70N9w"
      }
    },
    {
      "cell_type": "code",
      "source": [
        "tekst2[::-1]"
      ],
      "metadata": {
        "id": "q2NujvIR0PVX",
        "outputId": "b6a1392c-6882-4db9-a318-627ae1d9571d",
        "colab": {
          "base_uri": "https://localhost:8080/",
          "height": 35
        }
      },
      "execution_count": null,
      "outputs": [
        {
          "output_type": "execute_result",
          "data": {
            "text/plain": [
              "'elA am tok ,atok am alA'"
            ],
            "application/vnd.google.colaboratory.intrinsic+json": {
              "type": "string"
            }
          },
          "metadata": {},
          "execution_count": 37
        }
      ]
    },
    {
      "cell_type": "markdown",
      "source": [
        "Metoda ISDECIMAL() zwraca True, jeśli wszystkie znaki są liczbami dziesiętnymi (0-9)"
      ],
      "metadata": {
        "id": "9gby7KfKXZiv"
      }
    },
    {
      "cell_type": "code",
      "source": [
        "txt.isdecimal()"
      ],
      "metadata": {
        "id": "t6n-Fd1EXYb_",
        "outputId": "aec15614-6d7d-4572-8e2d-9628ecda23ff",
        "colab": {
          "base_uri": "https://localhost:8080/"
        }
      },
      "execution_count": null,
      "outputs": [
        {
          "output_type": "execute_result",
          "data": {
            "text/plain": [
              "False"
            ]
          },
          "metadata": {},
          "execution_count": 5
        }
      ]
    },
    {
      "cell_type": "markdown",
      "source": [
        "#ZIP\n"
      ],
      "metadata": {
        "id": "BL_iarkEYZBa"
      }
    },
    {
      "cell_type": "code",
      "source": [
        " a = ['a', 'b', 'c']"
      ],
      "metadata": {
        "id": "yEECjRVfWjHf"
      },
      "execution_count": null,
      "outputs": []
    },
    {
      "cell_type": "code",
      "source": [
        " b = [1,2,3,4] "
      ],
      "metadata": {
        "id": "kyHaqVhOYc2i"
      },
      "execution_count": null,
      "outputs": []
    },
    {
      "cell_type": "code",
      "source": [
        "c = list(zip(a,b))"
      ],
      "metadata": {
        "id": "JHYmtclbY10G"
      },
      "execution_count": null,
      "outputs": []
    },
    {
      "cell_type": "code",
      "source": [
        "c"
      ],
      "metadata": {
        "id": "YICRIpt4ZG4a",
        "outputId": "3c1b6594-aaa7-4295-ba9c-e1f52643e224",
        "colab": {
          "base_uri": "https://localhost:8080/"
        }
      },
      "execution_count": null,
      "outputs": [
        {
          "output_type": "execute_result",
          "data": {
            "text/plain": [
              "[('a', 1), ('b', 2), ('c', 3)]"
            ]
          },
          "metadata": {},
          "execution_count": 35
        }
      ]
    },
    {
      "cell_type": "markdown",
      "source": [
        "#SET"
      ],
      "metadata": {
        "id": "8ju9vx92aHfd"
      }
    },
    {
      "cell_type": "code",
      "source": [
        "a = set('abrakadabra') #set tworzymy za pomoca nawiasów okrągłych"
      ],
      "metadata": {
        "id": "jUE-wquYn7In"
      },
      "execution_count": null,
      "outputs": []
    },
    {
      "cell_type": "code",
      "source": [
        "a"
      ],
      "metadata": {
        "id": "oG3c2AhBn-ll",
        "outputId": "3658a864-f5f3-4fdd-ca0c-87aaf6bd5105",
        "colab": {
          "base_uri": "https://localhost:8080/"
        }
      },
      "execution_count": null,
      "outputs": [
        {
          "output_type": "execute_result",
          "data": {
            "text/plain": [
              "{'a', 'b', 'd', 'k', 'r'}"
            ]
          },
          "metadata": {},
          "execution_count": 19
        }
      ]
    },
    {
      "cell_type": "code",
      "source": [
        "aa = [1,2,3,4]"
      ],
      "metadata": {
        "id": "oHuu8CpNaF_X"
      },
      "execution_count": null,
      "outputs": []
    },
    {
      "cell_type": "code",
      "source": [
        "bb= [1,2,3]"
      ],
      "metadata": {
        "id": "yOGVxSUcaNjZ"
      },
      "execution_count": null,
      "outputs": []
    },
    {
      "cell_type": "code",
      "source": [
        "cc = aa+bb"
      ],
      "metadata": {
        "id": "my4ctJ2IaPER"
      },
      "execution_count": null,
      "outputs": []
    },
    {
      "cell_type": "code",
      "source": [
        "list(set(cc))"
      ],
      "metadata": {
        "id": "pR-5APhdaQk3",
        "outputId": "60ed2fb5-cab3-4a00-f7eb-ef851362c71f",
        "colab": {
          "base_uri": "https://localhost:8080/"
        }
      },
      "execution_count": null,
      "outputs": [
        {
          "output_type": "execute_result",
          "data": {
            "text/plain": [
              "[1, 2, 3, 4]"
            ]
          },
          "metadata": {},
          "execution_count": 23
        }
      ]
    },
    {
      "cell_type": "markdown",
      "source": [
        "#WYRAŻENIA SET"
      ],
      "metadata": {
        "id": "KiNILBGCcPAu"
      }
    },
    {
      "cell_type": "code",
      "source": [
        "name_list = ['ala', 'kasia', 'zenek', 'norbet']"
      ],
      "metadata": {
        "id": "pTWayxxsaTYh"
      },
      "execution_count": null,
      "outputs": []
    },
    {
      "cell_type": "code",
      "source": [
        "name_lenght = {len(word) for word in name_list} #podaj długość kazdego słowa z listy"
      ],
      "metadata": {
        "id": "764AMqg6cT09"
      },
      "execution_count": null,
      "outputs": []
    },
    {
      "cell_type": "code",
      "source": [
        "name_lenght"
      ],
      "metadata": {
        "id": "xMsnaGP7ccu9",
        "outputId": "02905fe5-08a6-4707-a95f-1a57618b159d",
        "colab": {
          "base_uri": "https://localhost:8080/"
        }
      },
      "execution_count": null,
      "outputs": [
        {
          "output_type": "execute_result",
          "data": {
            "text/plain": [
              "{3, 5, 6}"
            ]
          },
          "metadata": {},
          "execution_count": 26
        }
      ]
    },
    {
      "cell_type": "markdown",
      "source": [
        "DICTIONARY"
      ],
      "metadata": {
        "id": "s0fHacVoVyN-"
      }
    },
    {
      "cell_type": "code",
      "source": [
        "old_dict = {'police':997, 'emergency': 999, 'fire': 998}"
      ],
      "metadata": {
        "id": "q7H3sr9KcdTp"
      },
      "execution_count": null,
      "outputs": []
    },
    {
      "cell_type": "code",
      "source": [
        "new_dict = {v: k for k, v in old_dict.items()}"
      ],
      "metadata": {
        "id": "pqrT_m3AV9IM"
      },
      "execution_count": null,
      "outputs": []
    },
    {
      "cell_type": "code",
      "source": [
        "new_dict"
      ],
      "metadata": {
        "id": "_PMMBgvtWBpU",
        "outputId": "78ad6f22-7cfc-4ad0-aabf-f1f29ce489dc",
        "colab": {
          "base_uri": "https://localhost:8080/"
        }
      },
      "execution_count": null,
      "outputs": [
        {
          "output_type": "execute_result",
          "data": {
            "text/plain": [
              "{997: 'police', 999: 'emergency', 998: 'fire'}"
            ]
          },
          "metadata": {},
          "execution_count": 29
        }
      ]
    },
    {
      "cell_type": "code",
      "source": [
        "for k in old_dict:#zawsze drukuje sie klucz\n",
        "  print(k)"
      ],
      "metadata": {
        "id": "TD4c02QXWOLM",
        "outputId": "da8d9b1a-7885-4955-941b-05cca2b51080",
        "colab": {
          "base_uri": "https://localhost:8080/"
        }
      },
      "execution_count": null,
      "outputs": [
        {
          "output_type": "stream",
          "name": "stdout",
          "text": [
            "police\n",
            "emergency\n",
            "fire\n"
          ]
        }
      ]
    },
    {
      "cell_type": "code",
      "source": [
        "old_dict.items()"
      ],
      "metadata": {
        "id": "NkrUkNRHWhK9",
        "outputId": "7fd5ee87-4452-4a74-dd99-62b3dc74b38c",
        "colab": {
          "base_uri": "https://localhost:8080/"
        }
      },
      "execution_count": null,
      "outputs": [
        {
          "output_type": "execute_result",
          "data": {
            "text/plain": [
              "dict_items([('police', 997), ('emergency', 999), ('fire', 998)])"
            ]
          },
          "metadata": {},
          "execution_count": 31
        }
      ]
    },
    {
      "cell_type": "code",
      "source": [
        "dictionary  = {'a':2,'b':3,'c':4}"
      ],
      "metadata": {
        "id": "4iDbpCz4Y40a"
      },
      "execution_count": null,
      "outputs": []
    },
    {
      "cell_type": "code",
      "source": [
        "dictionary['b']"
      ],
      "metadata": {
        "id": "iXSASbRPY72l",
        "outputId": "20a17138-3644-4e64-f17f-038bdb8c4c2d",
        "colab": {
          "base_uri": "https://localhost:8080/"
        }
      },
      "execution_count": null,
      "outputs": [
        {
          "output_type": "execute_result",
          "data": {
            "text/plain": [
              "3"
            ]
          },
          "metadata": {},
          "execution_count": 10
        }
      ]
    },
    {
      "cell_type": "code",
      "source": [
        "dictionary[(1,2)]=10"
      ],
      "metadata": {
        "id": "nHASg6QlZHSl"
      },
      "execution_count": null,
      "outputs": []
    },
    {
      "cell_type": "markdown",
      "source": [
        "OPERACJE NA PLIKACH"
      ],
      "metadata": {
        "id": "8GyLWAxgkevr"
      }
    },
    {
      "cell_type": "code",
      "source": [
        "dictionary"
      ],
      "metadata": {
        "id": "ujT-h8vKZKpY",
        "outputId": "7f198de4-00e6-44d3-c033-ede45d8d7b1a",
        "colab": {
          "base_uri": "https://localhost:8080/"
        }
      },
      "execution_count": null,
      "outputs": [
        {
          "output_type": "execute_result",
          "data": {
            "text/plain": [
              "{'a': 2, 'b': 3, 'c': 4, (1, 2): 10}"
            ]
          },
          "metadata": {},
          "execution_count": 12
        }
      ]
    },
    {
      "cell_type": "code",
      "source": [
        "keys=['a','b','c']\n",
        "valeus = [2,3,4]"
      ],
      "metadata": {
        "id": "qD0Bt4kOZPuk"
      },
      "execution_count": null,
      "outputs": []
    },
    {
      "cell_type": "code",
      "source": [
        "{key:valeu for key, valeu in zip(keys, valeus)}"
      ],
      "metadata": {
        "id": "g0b2NBs6bIKK",
        "outputId": "e6a76221-d9d1-4a65-ebf7-b4795c84cf23",
        "colab": {
          "base_uri": "https://localhost:8080/"
        }
      },
      "execution_count": null,
      "outputs": [
        {
          "output_type": "execute_result",
          "data": {
            "text/plain": [
              "{'a': 2, 'b': 3, 'c': 4}"
            ]
          },
          "metadata": {},
          "execution_count": 23
        }
      ]
    },
    {
      "cell_type": "code",
      "source": [
        "dict(zip(keys,valeus)) #szybsza metoda"
      ],
      "metadata": {
        "id": "lzSoxNo1cEya",
        "outputId": "a54549d8-2e04-4c5c-8005-2238a385ffa0",
        "colab": {
          "base_uri": "https://localhost:8080/"
        }
      },
      "execution_count": null,
      "outputs": [
        {
          "output_type": "execute_result",
          "data": {
            "text/plain": [
              "{'a': 2, 'b': 3, 'c': 4}"
            ]
          },
          "metadata": {},
          "execution_count": 24
        }
      ]
    },
    {
      "cell_type": "code",
      "source": [
        "f = open('file.txt', mode='w')"
      ],
      "metadata": {
        "id": "wCf3pZALkdgx"
      },
      "execution_count": null,
      "outputs": []
    },
    {
      "cell_type": "code",
      "source": [
        "f.write('ala ma psa')"
      ],
      "metadata": {
        "id": "Pj1ZMoxZk5vb",
        "outputId": "e5d1ca2a-eefe-40c5-ba20-da9f831066bb",
        "colab": {
          "base_uri": "https://localhost:8080/"
        }
      },
      "execution_count": null,
      "outputs": [
        {
          "output_type": "execute_result",
          "data": {
            "text/plain": [
              "10"
            ]
          },
          "metadata": {},
          "execution_count": 56
        }
      ]
    },
    {
      "cell_type": "code",
      "source": [
        "f.close()"
      ],
      "metadata": {
        "id": "PmzrtmJnk-In"
      },
      "execution_count": null,
      "outputs": []
    },
    {
      "cell_type": "code",
      "source": [
        "string2 ='hello Joann'"
      ],
      "metadata": {
        "id": "3W7OGFe_Q7TC"
      },
      "execution_count": null,
      "outputs": []
    },
    {
      "cell_type": "code",
      "source": [
        "f2 = open('file2.txt', mode='w')\n",
        "f2.write(string2)\n",
        "f2.close()"
      ],
      "metadata": {
        "id": "tVmhgcBQQteF"
      },
      "execution_count": null,
      "outputs": []
    },
    {
      "cell_type": "code",
      "source": [
        "string3 ='Hello You too'\n",
        "f2 = open('file2.txt', mode='a') #a - dopisywanie, jeśli plik nie istnieje to zostanie utworzony, jeśli istnieje to nowa treść zostanie dopisana\n",
        "f2.writelines(string3)\n",
        "f2.close()"
      ],
      "metadata": {
        "id": "yCkjyJ6ZRIKA"
      },
      "execution_count": null,
      "outputs": []
    },
    {
      "cell_type": "code",
      "source": [
        "string4 ='\\nNew Line'\n",
        "f2 = open('file2.txt', mode='a')\n",
        "f2.writelines(string4)\n",
        "f2.close()"
      ],
      "metadata": {
        "id": "pYVxuPnjRfJ_"
      },
      "execution_count": null,
      "outputs": []
    },
    {
      "cell_type": "code",
      "source": [
        "f2 = open('file2.txt', mode='a')\n",
        "f2.write(\"\\nNice to met you\")\n",
        "f2.close()"
      ],
      "metadata": {
        "id": "C0hVUR1mR1ME"
      },
      "execution_count": null,
      "outputs": []
    },
    {
      "cell_type": "code",
      "source": [
        "f2 = open('file2.txt', mode='a')\n",
        "f2.writelines(\"\\nYou too\")\n",
        "f2.close()"
      ],
      "metadata": {
        "id": "3_d-A3baSrx0"
      },
      "execution_count": null,
      "outputs": []
    },
    {
      "cell_type": "code",
      "source": [
        "with open('file2.txt', mode='w') as file_2:\n",
        "  for t in range(100):\n",
        "    file_2.write(f'{t} C\\n') #czyli wydrukuj t(liczby od 0 do 100 i C, \\n = nowa linijka)"
      ],
      "metadata": {
        "id": "ZduXyBaNTr7P"
      },
      "execution_count": null,
      "outputs": []
    },
    {
      "cell_type": "code",
      "source": [
        "file_2 = open('file2.txt', mode='r')"
      ],
      "metadata": {
        "id": "fvAsFYuVVPBs"
      },
      "execution_count": null,
      "outputs": []
    },
    {
      "cell_type": "code",
      "source": [
        "tekst_z_pliku = file_2.read()"
      ],
      "metadata": {
        "id": "p2bB6x75VJSS"
      },
      "execution_count": null,
      "outputs": []
    },
    {
      "cell_type": "code",
      "source": [
        "tekst_z_pliku"
      ],
      "metadata": {
        "id": "-AMFWjYkViSr",
        "outputId": "692dfa2b-deab-4065-ebc1-a2a64711c6ad",
        "colab": {
          "base_uri": "https://localhost:8080/",
          "height": 105
        }
      },
      "execution_count": null,
      "outputs": [
        {
          "output_type": "execute_result",
          "data": {
            "text/plain": [
              "'0 C\\n1 C\\n2 C\\n3 C\\n4 C\\n5 C\\n6 C\\n7 C\\n8 C\\n9 C\\n10 C\\n11 C\\n12 C\\n13 C\\n14 C\\n15 C\\n16 C\\n17 C\\n18 C\\n19 C\\n20 C\\n21 C\\n22 C\\n23 C\\n24 C\\n25 C\\n26 C\\n27 C\\n28 C\\n29 C\\n30 C\\n31 C\\n32 C\\n33 C\\n34 C\\n35 C\\n36 C\\n37 C\\n38 C\\n39 C\\n40 C\\n41 C\\n42 C\\n43 C\\n44 C\\n45 C\\n46 C\\n47 C\\n48 C\\n49 C\\n50 C\\n51 C\\n52 C\\n53 C\\n54 C\\n55 C\\n56 C\\n57 C\\n58 C\\n59 C\\n60 C\\n61 C\\n62 C\\n63 C\\n64 C\\n65 C\\n66 C\\n67 C\\n68 C\\n69 C\\n70 C\\n71 C\\n72 C\\n73 C\\n74 C\\n75 C\\n76 C\\n77 C\\n78 C\\n79 C\\n80 C\\n81 C\\n82 C\\n83 C\\n84 C\\n85 C\\n86 C\\n87 C\\n88 C\\n89 C\\n90 C\\n91 C\\n92 C\\n93 C\\n94 C\\n95 C\\n96 C\\n97 C\\n98 C\\n99 C\\n'"
            ],
            "application/vnd.google.colaboratory.intrinsic+json": {
              "type": "string"
            }
          },
          "metadata": {},
          "execution_count": 18
        }
      ]
    },
    {
      "cell_type": "code",
      "source": [
        "tekst_z_pliku.split('\\n')"
      ],
      "metadata": {
        "id": "aKLIqHtQV_Qs"
      },
      "execution_count": null,
      "outputs": []
    },
    {
      "cell_type": "code",
      "source": [
        "file_2 = open('file2.txt', mode='r')"
      ],
      "metadata": {
        "id": "LkkQ6mhGXjzF"
      },
      "execution_count": null,
      "outputs": []
    },
    {
      "cell_type": "code",
      "source": [
        "for line in file_2:\n",
        "  print(line)"
      ],
      "metadata": {
        "id": "roJwbQ20WYpk"
      },
      "execution_count": null,
      "outputs": []
    },
    {
      "cell_type": "code",
      "source": [
        "file_2.close()"
      ],
      "metadata": {
        "id": "xYUWqKbIX5gj"
      },
      "execution_count": null,
      "outputs": []
    },
    {
      "cell_type": "code",
      "source": [
        "p = open('100_pan_tadeusz.txt',mode='r')\n",
        "\n",
        "while(True):\n",
        "  line =p.readline()\n",
        "  if not line:\n",
        "    break\n",
        "  print(line)"
      ],
      "metadata": {
        "id": "Nurjz7bIxy2b"
      },
      "execution_count": null,
      "outputs": []
    },
    {
      "cell_type": "code",
      "source": [
        "with open('p.txt', 'a+') as file:\n",
        "    print(file.readlines())"
      ],
      "metadata": {
        "id": "oeW7NA8c1I80",
        "outputId": "24528966-1c14-4cc7-8efa-c97f90db6469",
        "colab": {
          "base_uri": "https://localhost:8080/"
        }
      },
      "execution_count": null,
      "outputs": [
        {
          "output_type": "stream",
          "name": "stdout",
          "text": [
            "[]\n"
          ]
        }
      ]
    },
    {
      "cell_type": "markdown",
      "source": [
        "#PĘTLE"
      ],
      "metadata": {
        "id": "e90MEFcuUJK5"
      }
    },
    {
      "cell_type": "code",
      "source": [
        "y = 10\n",
        "\n",
        "while y>0:\n",
        "  y-=1\n",
        "  print(y)\n",
        "  if y == 5:\n",
        "    break\n",
        "else:\n",
        "  print('end')"
      ],
      "metadata": {
        "id": "KEXdeUQHULsX",
        "outputId": "9f1a205f-a90e-497a-91e9-bc0460ab24a9",
        "colab": {
          "base_uri": "https://localhost:8080/"
        }
      },
      "execution_count": null,
      "outputs": [
        {
          "output_type": "stream",
          "name": "stdout",
          "text": [
            "9\n",
            "8\n",
            "7\n",
            "6\n",
            "5\n"
          ]
        }
      ]
    },
    {
      "cell_type": "code",
      "source": [
        "kola = 10\n",
        "\n",
        "for kolo in range(1,11,2): #skacze co drugą liczbę przez 3 wartość w range\n",
        "    print(kolo)"
      ],
      "metadata": {
        "id": "9odSH_LgVVJ5",
        "outputId": "0a0c2f6b-354a-4e8c-b331-da2d0f365f44",
        "colab": {
          "base_uri": "https://localhost:8080/"
        }
      },
      "execution_count": null,
      "outputs": [
        {
          "output_type": "stream",
          "name": "stdout",
          "text": [
            "1\n",
            "3\n",
            "5\n",
            "7\n",
            "9\n"
          ]
        }
      ]
    },
    {
      "cell_type": "markdown",
      "source": [
        "ćwiczenie 3: Znajdź najmniejszą liczbę na liście"
      ],
      "metadata": {
        "id": "iYyfAyzZXT7D"
      }
    },
    {
      "cell_type": "code",
      "source": [
        "lista = [1,3,7,11,2,-6,0]"
      ],
      "metadata": {
        "id": "zZmz91QFXRGP"
      },
      "execution_count": null,
      "outputs": []
    },
    {
      "cell_type": "code",
      "source": [
        "najmniejsza = None\n",
        "for i in lista:\n",
        "    \n",
        "    # przy każdej iteracji, sprawdzamy czy zmienna i \n",
        "    # jest mniejsza przechowywane przez nas zmienna\n",
        "    # Jeżeli tak, to ją zapisujemy\n",
        "    \n",
        "    if najmniejsza == None or najmniejsza > i: \n",
        "        najmniejsza = i\n",
        "        \n",
        "print (\"najmniejsza liczba to:\", najmniejsza)"
      ],
      "metadata": {
        "id": "7fZ5DaP8Yy-y",
        "outputId": "c9be24d2-9634-4da6-d72c-08394777d49d",
        "colab": {
          "base_uri": "https://localhost:8080/"
        }
      },
      "execution_count": null,
      "outputs": [
        {
          "output_type": "stream",
          "name": "stdout",
          "text": [
            "najmniejsza liczba to: -6\n"
          ]
        }
      ]
    },
    {
      "cell_type": "markdown",
      "source": [
        "ćwiczenie 4: Przechodząc po kolei od 0 do 10, wypisać sumę danej liczby oraz liczby poprzedniej."
      ],
      "metadata": {
        "id": "bzSSLOi_ZXvW"
      }
    },
    {
      "cell_type": "code",
      "source": [
        "poprzednia = 0\n",
        "\n",
        "for i in range(0,11):\n",
        "  print(i, i + poprzednia)\n",
        "  poprzednia = i"
      ],
      "metadata": {
        "id": "PFTVq1MjaxNB",
        "outputId": "90d00d01-0815-47ad-c855-d1672bfaa4b5",
        "colab": {
          "base_uri": "https://localhost:8080/"
        }
      },
      "execution_count": null,
      "outputs": [
        {
          "output_type": "stream",
          "name": "stdout",
          "text": [
            "0 0\n",
            "1 1\n",
            "2 3\n",
            "3 5\n",
            "4 7\n",
            "5 9\n",
            "6 11\n",
            "7 13\n",
            "8 15\n",
            "9 17\n",
            "10 19\n"
          ]
        }
      ]
    },
    {
      "cell_type": "code",
      "source": [
        "for i in range(11):\n",
        "  print(i, i + i-1)"
      ],
      "metadata": {
        "id": "0NIofmKhwesE",
        "outputId": "45419538-e5ea-47e4-b067-e27f8222a5f5",
        "colab": {
          "base_uri": "https://localhost:8080/"
        }
      },
      "execution_count": null,
      "outputs": [
        {
          "output_type": "stream",
          "name": "stdout",
          "text": [
            "0 -1\n",
            "1 1\n",
            "2 3\n",
            "3 5\n",
            "4 7\n",
            "5 9\n",
            "6 11\n",
            "7 13\n",
            "8 15\n",
            "9 17\n",
            "10 19\n"
          ]
        }
      ]
    },
    {
      "cell_type": "markdown",
      "source": [
        "Napisz typy obiektów w dowolnej liście"
      ],
      "metadata": {
        "id": "jzNCYqMdgceZ"
      }
    },
    {
      "cell_type": "code",
      "source": [
        "listaA = [1,2,3,4,'a', 'Bartek', 2.0, 1]"
      ],
      "metadata": {
        "id": "utxvxlUUa42W"
      },
      "execution_count": null,
      "outputs": []
    },
    {
      "cell_type": "code",
      "source": [
        "for i in listaA:\n",
        "  print(type(i))"
      ],
      "metadata": {
        "id": "WkCetqCtggUh",
        "outputId": "a613efa9-adfc-4839-9311-701345f2664b",
        "colab": {
          "base_uri": "https://localhost:8080/"
        }
      },
      "execution_count": null,
      "outputs": [
        {
          "output_type": "stream",
          "name": "stdout",
          "text": [
            "<class 'int'>\n",
            "<class 'int'>\n",
            "<class 'int'>\n",
            "<class 'int'>\n",
            "<class 'str'>\n",
            "<class 'str'>\n",
            "<class 'float'>\n",
            "<class 'int'>\n"
          ]
        }
      ]
    },
    {
      "cell_type": "markdown",
      "source": [
        "Funkcja do sprawdzenia, czy pierwszy I ostatni element listy są takie same."
      ],
      "metadata": {
        "id": "PRNIgfIig7Z3"
      }
    },
    {
      "cell_type": "code",
      "source": [
        "if listaA[0]==listaA[7]:\n",
        "  print('The same')\n",
        "else:\n",
        "  print('not the same')"
      ],
      "metadata": {
        "id": "1cIwkTdkgjf9",
        "outputId": "03229bd9-1132-4c0e-9de6-4ccf9d36ef36",
        "colab": {
          "base_uri": "https://localhost:8080/"
        }
      },
      "execution_count": null,
      "outputs": [
        {
          "output_type": "stream",
          "name": "stdout",
          "text": [
            "The same\n"
          ]
        }
      ]
    },
    {
      "cell_type": "markdown",
      "source": [
        "Wyprintować taki pattern: 1 22 333 4444"
      ],
      "metadata": {
        "id": "Tvhe0zgdi8xx"
      }
    },
    {
      "cell_type": "code",
      "source": [
        "pattern = [1,2,3,4]"
      ],
      "metadata": {
        "id": "MmreO8eHiuvd"
      },
      "execution_count": null,
      "outputs": []
    },
    {
      "cell_type": "code",
      "source": [
        "for i in pattern:\n",
        "  print([i]*i)"
      ],
      "metadata": {
        "colab": {
          "base_uri": "https://localhost:8080/"
        },
        "id": "SIAA7oJFjBFZ",
        "outputId": "0038892d-6ff8-42b7-cccf-7032f5789162"
      },
      "execution_count": null,
      "outputs": [
        {
          "output_type": "stream",
          "name": "stdout",
          "text": [
            "[1]\n",
            "[2, 2]\n",
            "[3, 3, 3]\n",
            "[4, 4, 4, 4]\n"
          ]
        }
      ]
    },
    {
      "cell_type": "markdown",
      "source": [
        "#List comprehantion"
      ],
      "metadata": {
        "id": "Z0DGO4huksnh"
      }
    },
    {
      "cell_type": "markdown",
      "source": [
        "Napisać funkcje, która tworzy listę na podstawie 2 list, przy czym że z pierwszej weźmiemy liczby parzyste, a z drugiej nieparzyste. Przykład: a=[1,2,3,6,4] b = [5,3,8,10,7] => wynik [2,6,4,5,3,7]"
      ],
      "metadata": {
        "id": "67FdUNwWk3Z5"
      }
    },
    {
      "cell_type": "code",
      "source": [
        "a = [1,2,3,6,4]\n",
        "b = [2,6,4,5,3,7]\n",
        "\n",
        "[i for i in a if  not i%2] + [i for i in b if i%2]"
      ],
      "metadata": {
        "id": "3jBHqH9Zk0Zh",
        "outputId": "218b83b9-a617-463c-eb0f-efdb583dc2c5",
        "colab": {
          "base_uri": "https://localhost:8080/"
        }
      },
      "execution_count": null,
      "outputs": [
        {
          "output_type": "execute_result",
          "data": {
            "text/plain": [
              "[2, 6, 4, 5, 3, 7]"
            ]
          },
          "metadata": {},
          "execution_count": 49
        }
      ]
    },
    {
      "cell_type": "markdown",
      "source": [
        "Narysować tabliczkę mnożenia od 1 do 10"
      ],
      "metadata": {
        "id": "mAOmZn2exAUa"
      }
    },
    {
      "cell_type": "code",
      "source": [
        "liczby = list(range(1,11))\n",
        "\n",
        "for x in liczby:\n",
        "  line = []\n",
        "  for y in liczby:\n",
        "    line.append(x*y)\n",
        "  print(line)"
      ],
      "metadata": {
        "id": "Sni2A7whxEas",
        "outputId": "28150c60-dc29-4c2b-bddb-db53286f703f",
        "colab": {
          "base_uri": "https://localhost:8080/"
        }
      },
      "execution_count": null,
      "outputs": [
        {
          "output_type": "stream",
          "name": "stdout",
          "text": [
            "[1, 2, 3, 4, 5, 6, 7, 8, 9, 10]\n",
            "[2, 4, 6, 8, 10, 12, 14, 16, 18, 20]\n",
            "[3, 6, 9, 12, 15, 18, 21, 24, 27, 30]\n",
            "[4, 8, 12, 16, 20, 24, 28, 32, 36, 40]\n",
            "[5, 10, 15, 20, 25, 30, 35, 40, 45, 50]\n",
            "[6, 12, 18, 24, 30, 36, 42, 48, 54, 60]\n",
            "[7, 14, 21, 28, 35, 42, 49, 56, 63, 70]\n",
            "[8, 16, 24, 32, 40, 48, 56, 64, 72, 80]\n",
            "[9, 18, 27, 36, 45, 54, 63, 72, 81, 90]\n",
            "[10, 20, 30, 40, 50, 60, 70, 80, 90, 100]\n"
          ]
        }
      ]
    },
    {
      "cell_type": "code",
      "source": [
        "liczby"
      ],
      "metadata": {
        "id": "vBw4rR_Px2Rj",
        "outputId": "85b8f236-54e9-4256-eb9f-e6a6b1c39990",
        "colab": {
          "base_uri": "https://localhost:8080/"
        }
      },
      "execution_count": null,
      "outputs": [
        {
          "output_type": "execute_result",
          "data": {
            "text/plain": [
              "[1, 2, 3, 4, 5, 6, 7, 8, 9, 10]"
            ]
          },
          "metadata": {},
          "execution_count": 24
        }
      ]
    },
    {
      "cell_type": "markdown",
      "source": [
        "#Funkcje"
      ],
      "metadata": {
        "id": "naagc4TitlZ-"
      }
    },
    {
      "cell_type": "markdown",
      "source": [
        "Funkcja do puszukiwania najmniejszej z 2 liczb wpisanych z klawiatury"
      ],
      "metadata": {
        "id": "reCbPdHFtsmS"
      }
    },
    {
      "cell_type": "code",
      "source": [
        "liczba_1 = int(input('wpisz liczbę: '))\n",
        "liczba_2 = int(input('wpisz drugą liczbę: '))\n"
      ],
      "metadata": {
        "id": "K6CGnAGTtn0p",
        "outputId": "d4a75cf4-18d2-458a-c150-791797c5a228",
        "colab": {
          "base_uri": "https://localhost:8080/"
        }
      },
      "execution_count": null,
      "outputs": [
        {
          "name": "stdout",
          "output_type": "stream",
          "text": [
            "wpisz liczbę: 4\n",
            "wpisz drugą liczbę: 8\n"
          ]
        }
      ]
    },
    {
      "cell_type": "code",
      "source": [
        "def maximum(liczba_1, liczba_2):\n",
        "  if liczba_1>liczba_2:\n",
        "    return(liczba_1)\n",
        "  else:\n",
        "    return(liczba_2)"
      ],
      "metadata": {
        "id": "Ul4HyPCRuOCK"
      },
      "execution_count": null,
      "outputs": []
    },
    {
      "cell_type": "code",
      "source": [
        "maximum(4,2)"
      ],
      "metadata": {
        "id": "SypduOYevKQU",
        "outputId": "08f43059-e6ab-46b5-e2d2-f8ef9ef68a84",
        "colab": {
          "base_uri": "https://localhost:8080/"
        }
      },
      "execution_count": null,
      "outputs": [
        {
          "output_type": "execute_result",
          "data": {
            "text/plain": [
              "4"
            ]
          },
          "metadata": {},
          "execution_count": 13
        }
      ]
    },
    {
      "cell_type": "code",
      "source": [
        "def dzielenie(liczba1,liczba2):\n",
        "    return liczba1/liczba2"
      ],
      "metadata": {
        "id": "KhvL03UmvLcv"
      },
      "execution_count": null,
      "outputs": []
    },
    {
      "cell_type": "code",
      "source": [
        "dzielenie(10,2)"
      ],
      "metadata": {
        "id": "28SgzsKWvv1r",
        "outputId": "26d4f146-bc2f-408a-8016-a757ea2fba9a",
        "colab": {
          "base_uri": "https://localhost:8080/"
        }
      },
      "execution_count": null,
      "outputs": [
        {
          "output_type": "execute_result",
          "data": {
            "text/plain": [
              "5.0"
            ]
          },
          "metadata": {},
          "execution_count": 15
        }
      ]
    },
    {
      "cell_type": "code",
      "source": [
        "def srednia(liczba1, liczba2):\n",
        "  sr = (liczba1+liczba2)/2\n",
        "  print(sr)"
      ],
      "metadata": {
        "id": "mc5iQVSzwLHr"
      },
      "execution_count": null,
      "outputs": []
    },
    {
      "cell_type": "code",
      "source": [
        "srednia(33,78)"
      ],
      "metadata": {
        "id": "HFHxgUTXwMhb",
        "outputId": "2a8de372-2908-4987-bbde-4ad42338eebf",
        "colab": {
          "base_uri": "https://localhost:8080/"
        }
      },
      "execution_count": null,
      "outputs": [
        {
          "output_type": "stream",
          "name": "stdout",
          "text": [
            "55.5\n"
          ]
        }
      ]
    },
    {
      "cell_type": "markdown",
      "source": [
        "Napisz program obliczający odchylenie standardowe z listy"
      ],
      "metadata": {
        "id": "g146us4b068D"
      }
    },
    {
      "cell_type": "code",
      "source": [
        "listaX = [44, -9, 13, 77, 111, -43]"
      ],
      "metadata": {
        "id": "ElNljIQJ07k6"
      },
      "execution_count": null,
      "outputs": []
    },
    {
      "cell_type": "code",
      "source": [
        "#najpierw liczę średnią\n",
        "avg = sum(listaX) / len(listaX)"
      ],
      "metadata": {
        "id": "hRZU0WP31l2E"
      },
      "execution_count": null,
      "outputs": []
    },
    {
      "cell_type": "code",
      "source": [
        "avg\n"
      ],
      "metadata": {
        "id": "o-PtbR6w19F6",
        "outputId": "1622bb95-dc92-439e-e5e2-00188da6086b",
        "colab": {
          "base_uri": "https://localhost:8080/"
        }
      },
      "execution_count": null,
      "outputs": [
        {
          "output_type": "execute_result",
          "data": {
            "text/plain": [
              "32.166666666666664"
            ]
          },
          "metadata": {},
          "execution_count": 42
        }
      ]
    },
    {
      "cell_type": "code",
      "source": [
        "#następnie liczę wariancję\n",
        "for i in listaX:\n",
        "  variance = (i-avg)**2/len(listaX)\n",
        "  print(variance)"
      ],
      "metadata": {
        "id": "HsbExFtS130F",
        "outputId": "b0699746-66e3-400c-fd75-cd27e3dbc34c",
        "colab": {
          "base_uri": "https://localhost:8080/"
        }
      },
      "execution_count": null,
      "outputs": [
        {
          "output_type": "stream",
          "name": "stdout",
          "text": [
            "23.337962962962973\n",
            "282.4490740740741\n",
            "61.22685185185184\n",
            "335.0046296296297\n",
            "1035.7824074074076\n",
            "941.6712962962961\n"
          ]
        }
      ]
    },
    {
      "cell_type": "code",
      "source": [
        "variance"
      ],
      "metadata": {
        "id": "M-f6OqS020pW",
        "outputId": "ed93ba85-9685-4c08-e4a8-0e44ff6406c1",
        "colab": {
          "base_uri": "https://localhost:8080/"
        }
      },
      "execution_count": null,
      "outputs": [
        {
          "output_type": "execute_result",
          "data": {
            "text/plain": [
              "941.6712962962961"
            ]
          },
          "metadata": {},
          "execution_count": 47
        }
      ]
    },
    {
      "cell_type": "markdown",
      "source": [
        "Wbudowana funkcja ułamkowa"
      ],
      "metadata": {
        "id": "rQssM7dhVZtc"
      }
    },
    {
      "cell_type": "code",
      "source": [
        "x = 2.5"
      ],
      "metadata": {
        "id": "bNumX6ZI21UM"
      },
      "execution_count": null,
      "outputs": []
    },
    {
      "cell_type": "code",
      "source": [
        "x.as_integer_ratio() #indeks w postaci indeksu 0 oraz 1. 5/2 = 2.5(x)"
      ],
      "metadata": {
        "id": "NbmtpyC1Vo3j",
        "outputId": "2f54ea18-4254-42d3-ad92-f5d77ff16c66",
        "colab": {
          "base_uri": "https://localhost:8080/"
        }
      },
      "execution_count": null,
      "outputs": [
        {
          "output_type": "execute_result",
          "data": {
            "text/plain": [
              "(5, 2)"
            ]
          },
          "metadata": {},
          "execution_count": 2
        }
      ]
    },
    {
      "cell_type": "markdown",
      "source": [
        "Obliczanie czasu wykonywania funkcji"
      ],
      "metadata": {
        "id": "4z23oIKJYRDl"
      }
    },
    {
      "cell_type": "code",
      "source": [
        "b = [10,20,30,50]"
      ],
      "metadata": {
        "id": "FeSCO3KGYV5o"
      },
      "execution_count": null,
      "outputs": []
    },
    {
      "cell_type": "code",
      "source": [
        "%%time\n",
        "result = []\n",
        "for x in b:\n",
        "    kwadrat = x**2\n",
        "    result.append(kwadrat)"
      ],
      "metadata": {
        "id": "57zBRefRWBtR",
        "outputId": "f1f207c3-3364-43d4-f930-c0d2cdafa05a",
        "colab": {
          "base_uri": "https://localhost:8080/"
        }
      },
      "execution_count": null,
      "outputs": [
        {
          "output_type": "stream",
          "name": "stdout",
          "text": [
            "CPU times: user 8 µs, sys: 0 ns, total: 8 µs\n",
            "Wall time: 14.3 µs\n"
          ]
        }
      ]
    },
    {
      "cell_type": "code",
      "source": [
        "def gretting(time):\n",
        "    \n",
        "    def morning_greeting(name):\n",
        "        return f'Good morning, {name}!'\n",
        "    \n",
        "    def afternoon_greeting(name):\n",
        "        return f'Good afternoon, {name}!'\n",
        "    \n",
        "    def night_greeting(name):\n",
        "        return f'Good night, {name}!'\n",
        "    \n",
        "    if time == 'morning':\n",
        "        return morning_greeting\n",
        "    \n",
        "    elif time=='afternoon':\n",
        "        return afternoon_greeting\n",
        "    \n",
        "    elif time=='night':\n",
        "        return night_greeting\n",
        "    \n",
        "    else:\n",
        "        return lambda name: f'Good any time {name}!'"
      ],
      "metadata": {
        "id": "OFoLNQmfVSTc"
      },
      "execution_count": 16,
      "outputs": []
    },
    {
      "cell_type": "code",
      "source": [
        "a=gretting('morning')"
      ],
      "metadata": {
        "id": "fMJX1Ey9VW7U"
      },
      "execution_count": 17,
      "outputs": []
    },
    {
      "cell_type": "code",
      "source": [
        "a('Kuba')"
      ],
      "metadata": {
        "colab": {
          "base_uri": "https://localhost:8080/",
          "height": 35
        },
        "id": "5hX0GzpAVb3j",
        "outputId": "b1863d23-4ad3-4f00-ceb1-148efdae6e92"
      },
      "execution_count": 18,
      "outputs": [
        {
          "output_type": "execute_result",
          "data": {
            "text/plain": [
              "'Good morning, Kuba!'"
            ],
            "application/vnd.google.colaboratory.intrinsic+json": {
              "type": "string"
            }
          },
          "metadata": {},
          "execution_count": 18
        }
      ]
    },
    {
      "cell_type": "code",
      "source": [
        "type(gretting('morning'))"
      ],
      "metadata": {
        "colab": {
          "base_uri": "https://localhost:8080/"
        },
        "id": "HUjojzOmVjx6",
        "outputId": "b803413c-6ecf-49a5-ffc2-8a244f73893a"
      },
      "execution_count": 19,
      "outputs": [
        {
          "output_type": "execute_result",
          "data": {
            "text/plain": [
              "function"
            ]
          },
          "metadata": {},
          "execution_count": 19
        }
      ]
    },
    {
      "cell_type": "code",
      "source": [
        "gretting('morning')('Kuba')"
      ],
      "metadata": {
        "colab": {
          "base_uri": "https://localhost:8080/",
          "height": 35
        },
        "id": "xaUOCL8mVwCp",
        "outputId": "39da3f91-a603-4e76-890f-bec3cef75e41"
      },
      "execution_count": 20,
      "outputs": [
        {
          "output_type": "execute_result",
          "data": {
            "text/plain": [
              "'Good morning, Kuba!'"
            ],
            "application/vnd.google.colaboratory.intrinsic+json": {
              "type": "string"
            }
          },
          "metadata": {},
          "execution_count": 20
        }
      ]
    },
    {
      "cell_type": "markdown",
      "source": [
        "#FUNKCJA CLASS"
      ],
      "metadata": {
        "id": "dPR4Mqi287PQ"
      }
    },
    {
      "cell_type": "markdown",
      "source": [
        "* Stwórz własną klasę Student, która będzie zawierała atrybuty imię, wiek, ocena\n",
        "* Stwórz listę grupa która zawiera kilka studentów o dowolnych atrybutach\n",
        "* Zrób printa atrybutów każdego studenta w grupie (print(student.ocena…))\n",
        "* Dodaj do studenta metodę, która pozwoli na go printowanie print(student)\n",
        "* Dodaj metodę study, która zwiększa jego ocenę o podany parametr (ale robi ją nie większą nić 100)\n",
        "* Dodaj metodę laziness która zmniejsza mu ocenę o parametr, ale ocean ni ma być mniejsza od 0"
      ],
      "metadata": {
        "id": "4cxNMH-YLtvh"
      }
    },
    {
      "cell_type": "code",
      "source": [
        "class Student:\n",
        "\n",
        "  def __init__(self, name, mark):\n",
        "    self.name = name\n",
        "    self.mark = mark\n",
        "\n",
        "  def str(self):\n",
        "    return (f'Mam na imię {self.name}, moja ocena to: {self.mark}')\n",
        "\n",
        "  def study(self, new_number):\n",
        "    print(self.mark)\n",
        "    self.new_number = self.mark + new_number\n",
        "    if self.new_number >100:\n",
        "      print(100)\n",
        "    else:\n",
        "      print(self.new_number)\n",
        "\n",
        "  def lazy(self, minus):\n",
        "    print(self.mark)\n",
        "    self.minus = self.mark - minus\n",
        "    if self.minus <0:\n",
        "      print(0)\n",
        "    else:\n",
        "      print(self.minus)\n"
      ],
      "metadata": {
        "id": "YGWISK9q89iC"
      },
      "execution_count": null,
      "outputs": []
    },
    {
      "cell_type": "code",
      "source": [
        "st1=Student(\"Ola\", 34)"
      ],
      "metadata": {
        "id": "bJTVYuOLXlAd"
      },
      "execution_count": null,
      "outputs": []
    },
    {
      "cell_type": "code",
      "source": [
        "st1.study(86)"
      ],
      "metadata": {
        "colab": {
          "base_uri": "https://localhost:8080/"
        },
        "id": "dAy0U5OjXqYb",
        "outputId": "96f4f44a-7958-4dd8-c4f0-33764f04d303"
      },
      "execution_count": null,
      "outputs": [
        {
          "output_type": "stream",
          "name": "stdout",
          "text": [
            "34\n",
            "100\n"
          ]
        }
      ]
    },
    {
      "cell_type": "code",
      "source": [
        "st1.lazy(44)"
      ],
      "metadata": {
        "colab": {
          "base_uri": "https://localhost:8080/"
        },
        "id": "avAUPbiHkJyX",
        "outputId": "cbd23d50-0937-4d05-c653-59b87161f4ab"
      },
      "execution_count": null,
      "outputs": [
        {
          "output_type": "stream",
          "name": "stdout",
          "text": [
            "34\n",
            "0\n"
          ]
        }
      ]
    },
    {
      "cell_type": "code",
      "source": [
        "st1.study(5)"
      ],
      "metadata": {
        "colab": {
          "base_uri": "https://localhost:8080/"
        },
        "id": "pRY69JuUQJmd",
        "outputId": "c015c31d-feca-415a-e457-f045ce1460d7"
      },
      "execution_count": null,
      "outputs": [
        {
          "output_type": "stream",
          "name": "stdout",
          "text": [
            "5\n",
            "10\n"
          ]
        }
      ]
    },
    {
      "cell_type": "code",
      "source": [
        "st1"
      ],
      "metadata": {
        "colab": {
          "base_uri": "https://localhost:8080/"
        },
        "id": "I5yg3Z29BBBf",
        "outputId": "8751caf4-3feb-4ab2-c9a6-663bd08ef7d3"
      },
      "execution_count": null,
      "outputs": [
        {
          "output_type": "execute_result",
          "data": {
            "text/plain": [
              "<__main__.Student at 0x7fba6f651340>"
            ]
          },
          "metadata": {},
          "execution_count": 18
        }
      ]
    },
    {
      "cell_type": "code",
      "source": [
        "print(st1)"
      ],
      "metadata": {
        "colab": {
          "base_uri": "https://localhost:8080/"
        },
        "id": "mYFBP0r_BB3P",
        "outputId": "1f118a7c-b55a-4d0a-c4a1-d55bc2b167d3"
      },
      "execution_count": null,
      "outputs": [
        {
          "output_type": "stream",
          "name": "stdout",
          "text": [
            "Mam na imię Ania, moja ocena to: 5\n"
          ]
        }
      ]
    },
    {
      "cell_type": "code",
      "source": [
        "st1.__str__()"
      ],
      "metadata": {
        "colab": {
          "base_uri": "https://localhost:8080/",
          "height": 35
        },
        "id": "FaqdN79dBGBp",
        "outputId": "e4aec47b-7778-4473-e30c-db63839f21c6"
      },
      "execution_count": null,
      "outputs": [
        {
          "output_type": "execute_result",
          "data": {
            "text/plain": [
              "'Mam na imię Ania, moja ocena to: 5'"
            ],
            "application/vnd.google.colaboratory.intrinsic+json": {
              "type": "string"
            }
          },
          "metadata": {},
          "execution_count": 20
        }
      ]
    },
    {
      "cell_type": "code",
      "source": [
        "st2 = Student('Bartosz', 6)"
      ],
      "metadata": {
        "id": "4HwA1RELLEl4"
      },
      "execution_count": null,
      "outputs": []
    },
    {
      "cell_type": "code",
      "source": [
        "st3 = Student('Joanna', 5)"
      ],
      "metadata": {
        "id": "M6TMXtE2LPbD"
      },
      "execution_count": null,
      "outputs": []
    },
    {
      "cell_type": "code",
      "source": [
        "print(st2.mark)"
      ],
      "metadata": {
        "colab": {
          "base_uri": "https://localhost:8080/"
        },
        "id": "opJUh9_YLTgL",
        "outputId": "415ae255-af83-439a-c1de-bc9066799125"
      },
      "execution_count": null,
      "outputs": [
        {
          "output_type": "stream",
          "name": "stdout",
          "text": [
            "6\n"
          ]
        }
      ]
    },
    {
      "cell_type": "markdown",
      "source": [
        "Do każdej klasy możemy przypisać z góry narzucone dane (raise_amount). Te dane zawsze można zmienić. Każdy parametr w init możemy doprecyzować co do rodzaju(str, float, itd). "
      ],
      "metadata": {
        "id": "vQjMeQmbl7UG"
      }
    },
    {
      "cell_type": "code",
      "source": [
        "class Employee:\n",
        "    raise_amount = 1.04\n",
        "    \n",
        "    def __init__(self,first_name:str, last_name:str, salary:int):\n",
        "        \"\"\"\n",
        "        Klasa employee, która odpowiada za pracownike\n",
        "        Argumenty:\n",
        "        \n",
        "        first_name - str\n",
        "        last_name - str\n",
        "        salary - int\n",
        "        \"\"\"\n",
        "        self.first_name = first_name\n",
        "        self.last_name = last_name\n",
        "        self.salary = salary\n",
        "        self.email = f'{first_name}_{last_name}@company.com'\n",
        "    \n",
        "    def fullname(self):\n",
        "        return f'{self.first_name} {self.last_name}'\n",
        "    \n",
        "    def apply_rise(self):\n",
        "        print(f'Stara płaca wynosiła: {self.salary}')\n",
        "        self.salary = int(self.salary*self.raise_amount)\n",
        "        print(f'Nowa płaca wynosi: {self.salary}')"
      ],
      "metadata": {
        "id": "8eWg-FoQl5py"
      },
      "execution_count": 1,
      "outputs": []
    },
    {
      "cell_type": "markdown",
      "source": [
        "Tworzenie listy do klasy (nawias [], za każdym razem zacząć od nazwy klasy)"
      ],
      "metadata": {
        "id": "4VfGB6OFm2xd"
      }
    },
    {
      "cell_type": "code",
      "source": [
        "pracownicy = [Employee('Jan','Kowalski',7000),Employee('Agata','Kowalska',9000)\n",
        "             ,Employee('Monika','Nowak',6000)]"
      ],
      "metadata": {
        "id": "w-viDQfaQDhz"
      },
      "execution_count": 2,
      "outputs": []
    },
    {
      "cell_type": "code",
      "source": [
        "for pracownik in pracownicy:\n",
        "    print(pracownik.fullname())"
      ],
      "metadata": {
        "id": "WQznqPmcmyH2",
        "outputId": "4b589e8b-4822-4150-e07b-f64aa82e9639",
        "colab": {
          "base_uri": "https://localhost:8080/"
        }
      },
      "execution_count": null,
      "outputs": [
        {
          "output_type": "stream",
          "name": "stdout",
          "text": [
            "Jan Kowalski\n",
            "Agata Kowalska\n",
            "Monika Nowak\n"
          ]
        }
      ]
    },
    {
      "cell_type": "markdown",
      "source": [
        "Zmiana narzuconej danej"
      ],
      "metadata": {
        "id": "V2xyE_EmnVuN"
      }
    },
    {
      "cell_type": "code",
      "source": [
        "for pracownik in pracownicy:\n",
        "    pracownik.raise_amount=1.06"
      ],
      "metadata": {
        "id": "6uDpJrZ9nNbt"
      },
      "execution_count": null,
      "outputs": []
    },
    {
      "cell_type": "markdown",
      "source": [
        "Dodawanie pracownika do listy"
      ],
      "metadata": {
        "id": "r6um6l27nkG1"
      }
    },
    {
      "cell_type": "code",
      "source": [
        "pracownicy.append(Employee('Kuba','Zajc',3000))"
      ],
      "metadata": {
        "id": "FGaahBx-nfXV"
      },
      "execution_count": null,
      "outputs": []
    },
    {
      "cell_type": "markdown",
      "source": [
        "Tworzenie classy z classy"
      ],
      "metadata": {
        "id": "TtiHsxIS_YdS"
      }
    },
    {
      "cell_type": "code",
      "source": [
        "class Develper(Employee):\n",
        "    raise_amount = 1.10\n",
        "    \n",
        "    def __init__(self,first_name:str, last_name:str, salary:int,programing_language:str): #tu dodaję nowy atrybut\n",
        "        super().__init__(first_name,last_name,salary) #w tym miejscu powtarzamy atyrybuty poprzedniej klasy do której sie odwołujemy\n",
        "        \n",
        "        self.programing_language = programing_language\n",
        "    def code(self):\n",
        "        return 'Koduję'"
      ],
      "metadata": {
        "id": "JNindYkY_jm6"
      },
      "execution_count": 3,
      "outputs": []
    },
    {
      "cell_type": "code",
      "source": [
        "dev = Develper('Kuba','Nowak',10000,'Python')\n",
        "emp = Employee('Jan','Kowalski',6000)"
      ],
      "metadata": {
        "id": "Zhy2s8yM__w7"
      },
      "execution_count": 4,
      "outputs": []
    },
    {
      "cell_type": "code",
      "source": [
        "dev.code()"
      ],
      "metadata": {
        "colab": {
          "base_uri": "https://localhost:8080/",
          "height": 35
        },
        "id": "AQ48LKCsABDx",
        "outputId": "2fe8da43-ffc2-4f2c-cb49-5f341afe272d"
      },
      "execution_count": 5,
      "outputs": [
        {
          "output_type": "execute_result",
          "data": {
            "text/plain": [
              "'Koduję'"
            ],
            "application/vnd.google.colaboratory.intrinsic+json": {
              "type": "string"
            }
          },
          "metadata": {},
          "execution_count": 5
        }
      ]
    },
    {
      "cell_type": "code",
      "source": [
        "dev.programing_language"
      ],
      "metadata": {
        "colab": {
          "base_uri": "https://localhost:8080/",
          "height": 35
        },
        "id": "2IvYMU5NAFAJ",
        "outputId": "da1362cb-85b4-4f83-e582-95683d570f2b"
      },
      "execution_count": 6,
      "outputs": [
        {
          "output_type": "execute_result",
          "data": {
            "text/plain": [
              "'Python'"
            ],
            "application/vnd.google.colaboratory.intrinsic+json": {
              "type": "string"
            }
          },
          "metadata": {},
          "execution_count": 6
        }
      ]
    },
    {
      "cell_type": "markdown",
      "source": [
        "#LAMBDA\n",
        "lambda to słowo kluczowe, którego należy użyć do zdefiniowania funkcji lambda, po której następuje jeden lub więcej parametrów, które funkcja powinna przyjąć.\n",
        "Parametry i zwracaną wartość oddziela dwukropek.<br>\n",
        "Alternatywna dla funkcji, szybsza wersja"
      ],
      "metadata": {
        "id": "-VET5nPhKVfQ"
      }
    },
    {
      "cell_type": "code",
      "source": [
        "def square(num):\n",
        "    return num*num"
      ],
      "metadata": {
        "id": "zJi_WwQ1KZ6k"
      },
      "execution_count": 7,
      "outputs": []
    },
    {
      "cell_type": "code",
      "source": [
        "square(4)"
      ],
      "metadata": {
        "colab": {
          "base_uri": "https://localhost:8080/"
        },
        "id": "yUzFdfatRdyk",
        "outputId": "6ee3bcd4-b9f6-44a3-96ca-48444c1ae3fb"
      },
      "execution_count": 8,
      "outputs": [
        {
          "output_type": "execute_result",
          "data": {
            "text/plain": [
              "16"
            ]
          },
          "metadata": {},
          "execution_count": 8
        }
      ]
    },
    {
      "cell_type": "code",
      "source": [
        "(lambda num: num*num)(4)"
      ],
      "metadata": {
        "colab": {
          "base_uri": "https://localhost:8080/"
        },
        "id": "kQxLiAksRfJm",
        "outputId": "4109dc5b-13c4-4bae-d753-f08d3e227445"
      },
      "execution_count": 9,
      "outputs": [
        {
          "output_type": "execute_result",
          "data": {
            "text/plain": [
              "16"
            ]
          },
          "metadata": {},
          "execution_count": 9
        }
      ]
    },
    {
      "cell_type": "code",
      "source": [
        "def add(num1,num2):\n",
        "    return num1 + num2"
      ],
      "metadata": {
        "id": "erhoBmrLSZIN"
      },
      "execution_count": 10,
      "outputs": []
    },
    {
      "cell_type": "code",
      "source": [
        "add(6,4)"
      ],
      "metadata": {
        "colab": {
          "base_uri": "https://localhost:8080/"
        },
        "id": "mfEqV9xASa2a",
        "outputId": "674f2dce-966f-4429-8486-749d02981f72"
      },
      "execution_count": 11,
      "outputs": [
        {
          "output_type": "execute_result",
          "data": {
            "text/plain": [
              "10"
            ]
          },
          "metadata": {},
          "execution_count": 11
        }
      ]
    },
    {
      "cell_type": "markdown",
      "source": [
        "(lambda x: x+x)(6,4)"
      ],
      "metadata": {
        "id": "faGc-MkCSdDo"
      }
    },
    {
      "cell_type": "code",
      "source": [
        "(lambda x, y: x+y)(6,4)"
      ],
      "metadata": {
        "colab": {
          "base_uri": "https://localhost:8080/"
        },
        "id": "Uw2LFtFySnLu",
        "outputId": "95348cbb-c2a5-430d-cf30-7a6827871e6f"
      },
      "execution_count": 15,
      "outputs": [
        {
          "output_type": "execute_result",
          "data": {
            "text/plain": [
              "10"
            ]
          },
          "metadata": {},
          "execution_count": 15
        }
      ]
    },
    {
      "cell_type": "markdown",
      "source": [
        "#DEKORATORY"
      ],
      "metadata": {
        "id": "5LM7ECV_fo3W"
      }
    },
    {
      "cell_type": "code",
      "source": [
        "def główna():\n",
        "    \n",
        "    def wewnętrzna(a,b):\n",
        "        return a*b\n",
        "    \n",
        "    x = wewnętrzna(2,3)\n",
        "    return x\n",
        "główna()"
      ],
      "metadata": {
        "colab": {
          "base_uri": "https://localhost:8080/"
        },
        "id": "UBbFBeHae26T",
        "outputId": "cbc29e8c-51f6-4762-a690-84d3fd80f84d"
      },
      "execution_count": 21,
      "outputs": [
        {
          "output_type": "execute_result",
          "data": {
            "text/plain": [
              "6"
            ]
          },
          "metadata": {},
          "execution_count": 21
        }
      ]
    },
    {
      "cell_type": "code",
      "source": [
        "def funk():\n",
        "    \n",
        "    def funkWew(a,b):\n",
        "        return a * b\n",
        "    \n",
        "    return funkWew\n",
        "x = funk()\n",
        "x(3,3)"
      ],
      "metadata": {
        "colab": {
          "base_uri": "https://localhost:8080/"
        },
        "id": "j85X3s1xfA_0",
        "outputId": "fc6bfde3-9131-4d2d-906c-7d22eb5caf39"
      },
      "execution_count": 22,
      "outputs": [
        {
          "output_type": "execute_result",
          "data": {
            "text/plain": [
              "9"
            ]
          },
          "metadata": {},
          "execution_count": 22
        }
      ]
    },
    {
      "cell_type": "code",
      "source": [
        "def zwykłaFunkcja():\n",
        "    print (\"To jest zwykła funkcja\")\n",
        "def dekor(funkcja):\n",
        "    \n",
        "    def wew():\n",
        "        print(\"Dekorujemy funkcję\")\n",
        "        return funkcja()\n",
        "        \n",
        "    return wew\n",
        "nowaFunkcja = dekor(zwykłaFunkcja)\n",
        "nowaFunkcja()"
      ],
      "metadata": {
        "colab": {
          "base_uri": "https://localhost:8080/"
        },
        "id": "OAB9quX4fmqd",
        "outputId": "69701046-fc1b-414f-91d9-c09baaa8d26c"
      },
      "execution_count": 23,
      "outputs": [
        {
          "output_type": "stream",
          "name": "stdout",
          "text": [
            "Dekorujemy funkcję\n",
            "To jest zwykła funkcja\n"
          ]
        }
      ]
    },
    {
      "cell_type": "code",
      "source": [
        "def dekor(funkcja):\n",
        "    \n",
        "    def wew():\n",
        "        print(\"Dekorujemy funkcję\")\n",
        "        return funkcja()\n",
        "        \n",
        "    return wew\n",
        "@dekor\n",
        "def zwykłaFunkcja():\n",
        "    print (\"To jest zwykła funkcja\")\n",
        "nowaFunkcja()"
      ],
      "metadata": {
        "colab": {
          "base_uri": "https://localhost:8080/"
        },
        "id": "wAXxpjpJgZ6u",
        "outputId": "59057554-77ff-432f-c329-76d91d4bcaa8"
      },
      "execution_count": 24,
      "outputs": [
        {
          "output_type": "stream",
          "name": "stdout",
          "text": [
            "Dekorujemy funkcję\n",
            "To jest zwykła funkcja\n"
          ]
        }
      ]
    },
    {
      "cell_type": "code",
      "source": [
        "import time\n",
        "def dekor(funkcja):\n",
        "    \n",
        "    def wew(*args, **kwargs):\n",
        "        start = time.time()\n",
        "        x = funkcja(*args, **kwargs)\n",
        "        koniec = time.time()\n",
        "        print(funkcja.__name__, \"wykonywała się\", koniec - start, \"sekund.\")\n",
        "        return x\n",
        "    return wew\n",
        "@dekor\n",
        "def dodaj(a,b):\n",
        "    time.sleep(1)\n",
        "    return a+b\n",
        "@dekor\n",
        "def odejmij(a,b,c):\n",
        "    time.sleep(0.5)\n",
        "    return a-b-c\n",
        "print(dodaj(2,2))\n",
        "print(odejmij(1,2,3))"
      ],
      "metadata": {
        "id": "RczcSGK-oiQK",
        "outputId": "96619e3d-caa5-45a4-ac82-d5d56eb2d81c",
        "colab": {
          "base_uri": "https://localhost:8080/"
        }
      },
      "execution_count": 25,
      "outputs": [
        {
          "output_type": "stream",
          "name": "stdout",
          "text": [
            "dodaj wykonywała się 1.0011074542999268 sekund.\n",
            "4\n",
            "odejmij wykonywała się 0.5005719661712646 sekund.\n",
            "-4\n"
          ]
        }
      ]
    }
  ]
}
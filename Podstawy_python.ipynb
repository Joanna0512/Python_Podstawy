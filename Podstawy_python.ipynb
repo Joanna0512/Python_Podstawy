{
  "nbformat": 4,
  "nbformat_minor": 0,
  "metadata": {
    "colab": {
      "provenance": [],
      "authorship_tag": "ABX9TyNmp4U6nBh4RrzgKXtNngHr",
      "include_colab_link": true
    },
    "kernelspec": {
      "name": "python3",
      "display_name": "Python 3"
    },
    "language_info": {
      "name": "python"
    }
  },
  "cells": [
    {
      "cell_type": "markdown",
      "metadata": {
        "id": "view-in-github",
        "colab_type": "text"
      },
      "source": [
        "<a href=\"https://colab.research.google.com/github/Joanna0512/Python_Podstawy/blob/main/Podstawy_python.ipynb\" target=\"_parent\"><img src=\"https://colab.research.google.com/assets/colab-badge.svg\" alt=\"Open In Colab\"/></a>"
      ]
    },
    {
      "cell_type": "markdown",
      "source": [
        "Wyrażenia listowe"
      ],
      "metadata": {
        "id": "42ZrdGrsM65d"
      }
    },
    {
      "cell_type": "code",
      "source": [
        "old_list = [1,2,3,4,5,6]\n",
        "new_list = [x**2 for x in old_list if x%2]"
      ],
      "metadata": {
        "id": "BbZF_YSGM9ZV"
      },
      "execution_count": 2,
      "outputs": []
    },
    {
      "cell_type": "code",
      "source": [
        "new_list"
      ],
      "metadata": {
        "colab": {
          "base_uri": "https://localhost:8080/"
        },
        "id": "icpWAVl0NHV6",
        "outputId": "08dcac3d-1bc8-4950-a4af-771f03f973cc"
      },
      "execution_count": 3,
      "outputs": [
        {
          "output_type": "execute_result",
          "data": {
            "text/plain": [
              "[1, 9, 25]"
            ]
          },
          "metadata": {},
          "execution_count": 3
        }
      ]
    },
    {
      "cell_type": "code",
      "source": [
        "x=1"
      ],
      "metadata": {
        "id": "rA8XkpXzNvyl"
      },
      "execution_count": 4,
      "outputs": []
    },
    {
      "cell_type": "code",
      "source": [
        "new_list = [x**2 for x in old_list if not x%2]"
      ],
      "metadata": {
        "id": "-WymeZmeNIRS"
      },
      "execution_count": 5,
      "outputs": []
    },
    {
      "cell_type": "code",
      "source": [
        "new_list"
      ],
      "metadata": {
        "colab": {
          "base_uri": "https://localhost:8080/"
        },
        "id": "jtaNwdl6NuEx",
        "outputId": "bb694668-a2f9-4769-fe74-67e758698abe"
      },
      "execution_count": 6,
      "outputs": [
        {
          "output_type": "execute_result",
          "data": {
            "text/plain": [
              "[4, 16, 36]"
            ]
          },
          "metadata": {},
          "execution_count": 6
        }
      ]
    },
    {
      "cell_type": "markdown",
      "source": [
        "STRING"
      ],
      "metadata": {
        "id": "l0-Z1Y3gSMau"
      }
    },
    {
      "cell_type": "code",
      "source": [
        "fruit = \"apple,banana,pear\"\n",
        "fruit.split(',')\n"
      ],
      "metadata": {
        "colab": {
          "base_uri": "https://localhost:8080/"
        },
        "id": "PmoLz4ODPNF8",
        "outputId": "9e5d2ee7-3a81-4e1a-cde2-68376a83ad59"
      },
      "execution_count": 7,
      "outputs": [
        {
          "output_type": "execute_result",
          "data": {
            "text/plain": [
              "['apple', 'banana', 'pear']"
            ]
          },
          "metadata": {},
          "execution_count": 7
        }
      ]
    },
    {
      "cell_type": "code",
      "source": [
        "fruit = ['apple', 'banana', 'pear']\n",
        "''.join(fruit)"
      ],
      "metadata": {
        "colab": {
          "base_uri": "https://localhost:8080/",
          "height": 35
        },
        "id": "jYYd3kczR0D7",
        "outputId": "603dddc6-cf43-4b90-b34a-040f5b778e37"
      },
      "execution_count": 8,
      "outputs": [
        {
          "output_type": "execute_result",
          "data": {
            "text/plain": [
              "'applebananapear'"
            ],
            "application/vnd.google.colaboratory.intrinsic+json": {
              "type": "string"
            }
          },
          "metadata": {},
          "execution_count": 8
        }
      ]
    },
    {
      "cell_type": "code",
      "source": [
        "', '.join(fruit)"
      ],
      "metadata": {
        "colab": {
          "base_uri": "https://localhost:8080/",
          "height": 35
        },
        "id": "bAygmAIkR_NZ",
        "outputId": "51976863-9ee0-4364-82cb-42cb89352a58"
      },
      "execution_count": 9,
      "outputs": [
        {
          "output_type": "execute_result",
          "data": {
            "text/plain": [
              "'apple, banana, pear'"
            ],
            "application/vnd.google.colaboratory.intrinsic+json": {
              "type": "string"
            }
          },
          "metadata": {},
          "execution_count": 9
        }
      ]
    },
    {
      "cell_type": "code",
      "source": [
        "txt = 'Joanna'"
      ],
      "metadata": {
        "id": "AgweAOvxUyl_"
      },
      "execution_count": 11,
      "outputs": []
    },
    {
      "cell_type": "code",
      "source": [
        "txt[::-1] \n"
      ],
      "metadata": {
        "id": "aKPaa0L7U0Mg",
        "outputId": "3b41a887-168e-4417-d0ea-38a2fc0c6891",
        "colab": {
          "base_uri": "https://localhost:8080/",
          "height": 35
        }
      },
      "execution_count": 12,
      "outputs": [
        {
          "output_type": "execute_result",
          "data": {
            "text/plain": [
              "'annaoJ'"
            ],
            "application/vnd.google.colaboratory.intrinsic+json": {
              "type": "string"
            }
          },
          "metadata": {},
          "execution_count": 12
        }
      ]
    },
    {
      "cell_type": "code",
      "source": [
        "txt[-2:]+txt[:-2] "
      ],
      "metadata": {
        "id": "pTQdsB81VMl8",
        "outputId": "f50b1756-fb64-439b-fe59-8789cd908777",
        "colab": {
          "base_uri": "https://localhost:8080/",
          "height": 35
        }
      },
      "execution_count": 13,
      "outputs": [
        {
          "output_type": "execute_result",
          "data": {
            "text/plain": [
              "'naJoan'"
            ],
            "application/vnd.google.colaboratory.intrinsic+json": {
              "type": "string"
            }
          },
          "metadata": {},
          "execution_count": 13
        }
      ]
    },
    {
      "cell_type": "code",
      "source": [
        "x = [*set(txt)] "
      ],
      "metadata": {
        "id": "koZN3szDWeQa"
      },
      "execution_count": 14,
      "outputs": []
    },
    {
      "cell_type": "code",
      "source": [
        "x"
      ],
      "metadata": {
        "id": "4vIJWCMCWiry",
        "outputId": "2229becd-18a6-4329-87b7-43361ce006a9",
        "colab": {
          "base_uri": "https://localhost:8080/"
        }
      },
      "execution_count": 15,
      "outputs": [
        {
          "output_type": "execute_result",
          "data": {
            "text/plain": [
              "['n', 'J', 'a', 'o']"
            ]
          },
          "metadata": {},
          "execution_count": 15
        }
      ]
    },
    {
      "cell_type": "markdown",
      "source": [
        "ZIP\n"
      ],
      "metadata": {
        "id": "BL_iarkEYZBa"
      }
    },
    {
      "cell_type": "code",
      "source": [
        " a = ['a', 'b', 'c']"
      ],
      "metadata": {
        "id": "yEECjRVfWjHf"
      },
      "execution_count": 18,
      "outputs": []
    },
    {
      "cell_type": "code",
      "source": [
        " b = [1,2,3] "
      ],
      "metadata": {
        "id": "kyHaqVhOYc2i"
      },
      "execution_count": 19,
      "outputs": []
    },
    {
      "cell_type": "code",
      "source": [
        "c = list(zip(a,b))"
      ],
      "metadata": {
        "id": "JHYmtclbY10G"
      },
      "execution_count": 25,
      "outputs": []
    },
    {
      "cell_type": "code",
      "source": [
        "c"
      ],
      "metadata": {
        "id": "YICRIpt4ZG4a",
        "outputId": "b39e1335-d468-449a-facc-113780ae2459",
        "colab": {
          "base_uri": "https://localhost:8080/"
        }
      },
      "execution_count": 26,
      "outputs": [
        {
          "output_type": "execute_result",
          "data": {
            "text/plain": [
              "[('a', 1), ('b', 2), ('c', 3)]"
            ]
          },
          "metadata": {},
          "execution_count": 26
        }
      ]
    },
    {
      "cell_type": "markdown",
      "source": [
        "SET"
      ],
      "metadata": {
        "id": "8ju9vx92aHfd"
      }
    },
    {
      "cell_type": "code",
      "source": [
        "aa = [1,2,3]"
      ],
      "metadata": {
        "id": "oHuu8CpNaF_X"
      },
      "execution_count": 27,
      "outputs": []
    },
    {
      "cell_type": "code",
      "source": [
        "bb= [1,2,3]"
      ],
      "metadata": {
        "id": "yOGVxSUcaNjZ"
      },
      "execution_count": 28,
      "outputs": []
    },
    {
      "cell_type": "code",
      "source": [
        "cc = aa+bb"
      ],
      "metadata": {
        "id": "my4ctJ2IaPER"
      },
      "execution_count": 31,
      "outputs": []
    },
    {
      "cell_type": "code",
      "source": [
        "list(set(cc))"
      ],
      "metadata": {
        "id": "pR-5APhdaQk3",
        "outputId": "340cc0b0-68a8-4770-ad31-751133676bc1",
        "colab": {
          "base_uri": "https://localhost:8080/"
        }
      },
      "execution_count": 33,
      "outputs": [
        {
          "output_type": "execute_result",
          "data": {
            "text/plain": [
              "[1, 2, 3]"
            ]
          },
          "metadata": {},
          "execution_count": 33
        }
      ]
    },
    {
      "cell_type": "markdown",
      "source": [
        "WYRAŻENIA SET"
      ],
      "metadata": {
        "id": "KiNILBGCcPAu"
      }
    },
    {
      "cell_type": "code",
      "source": [
        "name_list = ['ala', 'kasia', 'zenek', 'norbet']"
      ],
      "metadata": {
        "id": "pTWayxxsaTYh"
      },
      "execution_count": 34,
      "outputs": []
    },
    {
      "cell_type": "code",
      "source": [
        "name_lenght = {len(word) for word in name_list}"
      ],
      "metadata": {
        "id": "764AMqg6cT09"
      },
      "execution_count": 35,
      "outputs": []
    },
    {
      "cell_type": "code",
      "source": [
        "name_lenght"
      ],
      "metadata": {
        "id": "xMsnaGP7ccu9",
        "outputId": "71be51ba-e859-469f-97b5-6e926559672b",
        "colab": {
          "base_uri": "https://localhost:8080/"
        }
      },
      "execution_count": 36,
      "outputs": [
        {
          "output_type": "execute_result",
          "data": {
            "text/plain": [
              "{3, 5, 6}"
            ]
          },
          "metadata": {},
          "execution_count": 36
        }
      ]
    },
    {
      "cell_type": "code",
      "source": [],
      "metadata": {
        "id": "q7H3sr9KcdTp"
      },
      "execution_count": null,
      "outputs": []
    }
  ]
}